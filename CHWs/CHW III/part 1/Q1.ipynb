{
  "cells": [
    {
      "cell_type": "markdown",
      "id": "1b46fe41",
      "metadata": {
        "id": "1b46fe41"
      },
      "source": [
        "<h1 align=\"center\">Introduction to Machine Learning - Course Code: 25737</h1>\n",
        "<h4 align=\"center\">Instructor: Dr. Amiri</h4>\n",
        "<h4 align=\"center\">Sharif University of Technology, Spring 2024</h4>\n",
        "<h4 align=\"center\">Computer Assignment 3</h4>\n",
        "<h4 align=\"center\">\n",
        "\n",
        "Question 1\n",
        "\n",
        "</h4>"
      ]
    },
    {
      "cell_type": "markdown",
      "id": "24a0fc13",
      "metadata": {
        "id": "24a0fc13"
      },
      "source": [
        "# Personal Data"
      ]
    },
    {
      "cell_type": "code",
      "execution_count": 1,
      "id": "44babb65",
      "metadata": {
        "id": "44babb65"
      },
      "outputs": [],
      "source": [
        "# Set your student number\n",
        "student_number = 400101204\n",
        "Name = 'MohammadParsa'\n",
        "Last_Name = 'Dini'"
      ]
    },
    {
      "cell_type": "markdown",
      "id": "ca4a337a",
      "metadata": {
        "id": "ca4a337a"
      },
      "source": [
        "# Rules\n",
        "- You are not allowed to add or remove cells. You **must use the provided space to write your code**. If you don't follow this rule, **your Practical Assignment won't be graded**.  \n",
        "\n",
        "- Collaboration and using the internet is allowed, but your code **must be written by yourself**. **Copying code** from each other or from available resources will result in a **zero score for the assignment**.\n",
        "\n",
        "- You are not allowed to use `torch.nn`, `torch.optim` and any activation function and loss function implemented in torch."
      ]
    },
    {
      "cell_type": "markdown",
      "id": "886188c7",
      "metadata": {
        "id": "886188c7"
      },
      "source": [
        "## Importing Libraries"
      ]
    },
    {
      "cell_type": "code",
      "execution_count": 2,
      "id": "55a0adcc",
      "metadata": {
        "id": "55a0adcc"
      },
      "outputs": [],
      "source": [
        "import torch\n",
        "from torchvision.datasets import FashionMNIST\n",
        "from torchvision import transforms\n",
        "from torch.utils.data import DataLoader\n",
        "\n",
        "import numpy as np\n",
        "from matplotlib import pyplot as plt\n",
        "from typing import Dict"
      ]
    },
    {
      "cell_type": "markdown",
      "id": "18510868",
      "metadata": {
        "id": "18510868"
      },
      "source": [
        "## Datasets and Dataloaders\n",
        "\n",
        "Here, we download and load the train and test `FashionMNIST` dataset with the desired transforms. Then, we define the dataloaders for `train` and `test`."
      ]
    },
    {
      "cell_type": "code",
      "execution_count": 3,
      "id": "dc8759e2",
      "metadata": {
        "colab": {
          "base_uri": "https://localhost:8080/"
        },
        "id": "dc8759e2",
        "outputId": "8259fb44-548f-4d46-9a4d-efca845729ac"
      },
      "outputs": [
        {
          "output_type": "stream",
          "name": "stdout",
          "text": [
            "Downloading http://fashion-mnist.s3-website.eu-central-1.amazonaws.com/train-images-idx3-ubyte.gz\n",
            "Downloading http://fashion-mnist.s3-website.eu-central-1.amazonaws.com/train-images-idx3-ubyte.gz to ./FashionMNIST/raw/train-images-idx3-ubyte.gz\n"
          ]
        },
        {
          "output_type": "stream",
          "name": "stderr",
          "text": [
            "100%|██████████| 26421880/26421880 [00:16<00:00, 1645514.12it/s]\n"
          ]
        },
        {
          "output_type": "stream",
          "name": "stdout",
          "text": [
            "Extracting ./FashionMNIST/raw/train-images-idx3-ubyte.gz to ./FashionMNIST/raw\n",
            "\n",
            "Downloading http://fashion-mnist.s3-website.eu-central-1.amazonaws.com/train-labels-idx1-ubyte.gz\n",
            "Downloading http://fashion-mnist.s3-website.eu-central-1.amazonaws.com/train-labels-idx1-ubyte.gz to ./FashionMNIST/raw/train-labels-idx1-ubyte.gz\n"
          ]
        },
        {
          "output_type": "stream",
          "name": "stderr",
          "text": [
            "100%|██████████| 29515/29515 [00:00<00:00, 191750.19it/s]\n"
          ]
        },
        {
          "output_type": "stream",
          "name": "stdout",
          "text": [
            "Extracting ./FashionMNIST/raw/train-labels-idx1-ubyte.gz to ./FashionMNIST/raw\n",
            "\n",
            "Downloading http://fashion-mnist.s3-website.eu-central-1.amazonaws.com/t10k-images-idx3-ubyte.gz\n",
            "Downloading http://fashion-mnist.s3-website.eu-central-1.amazonaws.com/t10k-images-idx3-ubyte.gz to ./FashionMNIST/raw/t10k-images-idx3-ubyte.gz\n"
          ]
        },
        {
          "output_type": "stream",
          "name": "stderr",
          "text": [
            "100%|██████████| 4422102/4422102 [00:03<00:00, 1350768.61it/s]\n"
          ]
        },
        {
          "output_type": "stream",
          "name": "stdout",
          "text": [
            "Extracting ./FashionMNIST/raw/t10k-images-idx3-ubyte.gz to ./FashionMNIST/raw\n",
            "\n",
            "Downloading http://fashion-mnist.s3-website.eu-central-1.amazonaws.com/t10k-labels-idx1-ubyte.gz\n",
            "Downloading http://fashion-mnist.s3-website.eu-central-1.amazonaws.com/t10k-labels-idx1-ubyte.gz to ./FashionMNIST/raw/t10k-labels-idx1-ubyte.gz\n"
          ]
        },
        {
          "output_type": "stream",
          "name": "stderr",
          "text": [
            "100%|██████████| 5148/5148 [00:00<00:00, 4011942.96it/s]"
          ]
        },
        {
          "output_type": "stream",
          "name": "stdout",
          "text": [
            "Extracting ./FashionMNIST/raw/t10k-labels-idx1-ubyte.gz to ./FashionMNIST/raw\n",
            "\n"
          ]
        },
        {
          "output_type": "stream",
          "name": "stderr",
          "text": [
            "\n"
          ]
        }
      ],
      "source": [
        "train_set = FashionMNIST(root='.', train=True, download=True, transform=transforms.ToTensor())\n",
        "test_set = FashionMNIST(root='.', train=False, download=True, transform=transforms.ToTensor())"
      ]
    },
    {
      "cell_type": "markdown",
      "id": "5df47fcb",
      "metadata": {
        "id": "5df47fcb"
      },
      "source": [
        "\n",
        "Here you have to calculate the number of classes amd input dimention of the first layer (how many pixels does each image have?)."
      ]
    },
    {
      "cell_type": "code",
      "execution_count": 5,
      "id": "8f6763e6",
      "metadata": {
        "colab": {
          "base_uri": "https://localhost:8080/"
        },
        "id": "8f6763e6",
        "outputId": "b5c62e23-2bae-4dd7-ad8f-2c1207de6488"
      },
      "outputs": [
        {
          "output_type": "stream",
          "name": "stdout",
          "text": [
            "Number of classes: 10\n",
            "Input dimension of the first layer: 784\n"
          ]
        }
      ],
      "source": [
        "## FILL HERE\n",
        "\n",
        "# FashionMNIST dataset information\n",
        "num_classes = len(set(train_set.targets.numpy()))\n",
        "# Calculating input dimension of the first layer\n",
        "input_dim = train_set[0][0].shape[1] * train_set[0][0].shape[2]\n",
        "\n",
        "print(\"Number of classes:\", num_classes)\n",
        "print(\"Input dimension of the first layer:\", input_dim)\n",
        "\n",
        "\n",
        "# so the images' sizes are 28*28 pixels"
      ]
    },
    {
      "cell_type": "code",
      "execution_count": 6,
      "id": "c695ff60",
      "metadata": {
        "id": "c695ff60"
      },
      "outputs": [],
      "source": [
        "train_loader = DataLoader(train_set, 64, shuffle=True)\n",
        "test_loader = DataLoader(test_set, 64, shuffle=True)"
      ]
    },
    {
      "cell_type": "markdown",
      "id": "f9dac6c2",
      "metadata": {
        "id": "f9dac6c2"
      },
      "source": [
        "## Visualization\n",
        "\n",
        "Visualize 1 random image from each class by using `plt.subplots`"
      ]
    },
    {
      "cell_type": "code",
      "execution_count": 7,
      "id": "e3d6b0c1",
      "metadata": {
        "colab": {
          "base_uri": "https://localhost:8080/",
          "height": 173
        },
        "id": "e3d6b0c1",
        "outputId": "ef70537e-939f-4bb3-cca5-165a23b7884b"
      },
      "outputs": [
        {
          "output_type": "display_data",
          "data": {
            "text/plain": [
              "<Figure size 2000x500 with 10 Axes>"
            ],
            "image/png": "[encoded data removed]"
          },
          "metadata": {}
        }
      ],
      "source": [
        "# Function to visualize 1 random image from each class\n",
        "def visualize_random_images(dataset):\n",
        "    # Get the mapping from class names to indices\n",
        "    class_to_idx = dataset.class_to_idx\n",
        "    # Create a reverse mapping from indices to class names\n",
        "    idx_to_class = {v: k for k, v in class_to_idx.items()}\n",
        "\n",
        "    # Create a figure with subplots for each class\n",
        "    fig, axs = plt.subplots(1, num_classes, figsize=(20, 5))\n",
        "\n",
        "    sampled = set()  # Set to keep track of sampled classes\n",
        "    for i in range(len(dataset)):\n",
        "        img, label = dataset[i]  # Get the image and label\n",
        "        if label not in sampled:\n",
        "            # Display the image in the corresponding subplot\n",
        "            axs[label].imshow(img.squeeze(), cmap='gray')\n",
        "            axs[label].set_title(idx_to_class[label])  # Set the title to the class name\n",
        "            axs[label].axis('off')  # Turn off the axis\n",
        "            sampled.add(label)  # Add the label to the sampled set\n",
        "            if len(sampled) == num_classes:\n",
        "                break  # Stop if all classes have been sampled\n",
        "    plt.show()  # Display the plot\n",
        "\n",
        "# Visualize 1 random image from each class for the train set\n",
        "visualize_random_images(train_set)\n"
      ]
    },
    {
      "cell_type": "markdown",
      "id": "a94c5aba",
      "metadata": {
        "id": "a94c5aba"
      },
      "source": [
        "## Initializing model's parameters\n",
        "\n",
        "In this part, we create the model and initialize its parameters and store the values of these parameters in the variable `parameters` which is a dictionary including the weigths and biases of each layer."
      ]
    },
    {
      "cell_type": "code",
      "execution_count": 8,
      "id": "e6d40952",
      "metadata": {
        "id": "e6d40952"
      },
      "outputs": [],
      "source": [
        "def add_linear_layer(parameters: dict, shape, device, i=None):\n",
        "    \"\"\"\n",
        "    This function adds parameters of a linear unit of shape `shape` to the `parameters` dictionary.\n",
        "    \"\"\"\n",
        "    n_in, n_out = shape\n",
        "    with torch.no_grad():\n",
        "        w = torch.zeros(*shape, device=device)\n",
        "        bound = 1 / np.sqrt(n_in).item()\n",
        "        w.uniform_(-bound, bound)\n",
        "        b = torch.zeros(n_out, device=device)  # no need to (1, n_out). it will broadcast itself.\n",
        "    w.requires_grad = True\n",
        "    b.requires_grad = True\n",
        "    # `i` is used to give numbers to parameter names\n",
        "    parameters.update({f'w{i}': w, f'b{i}': b})"
      ]
    },
    {
      "cell_type": "markdown",
      "id": "ce914706",
      "metadata": {
        "id": "ce914706"
      },
      "source": [
        "Now we define our neural network with the given layers and add the weights and biases to the dictionary `parameters`. **You are allowed to modify the values of the layers**."
      ]
    },
    {
      "cell_type": "code",
      "execution_count": 9,
      "id": "8f3867d7",
      "metadata": {
        "colab": {
          "base_uri": "https://localhost:8080/"
        },
        "id": "8f3867d7",
        "outputId": "71909d65-ca82-49ea-8f0c-cd3af5a6a40a"
      },
      "outputs": [
        {
          "output_type": "execute_result",
          "data": {
            "text/plain": [
              "dict_keys(['w0', 'b0', 'w1', 'b1', 'w2', 'b2', 'w3', 'b3', 'w4', 'b4'])"
            ]
          },
          "metadata": {},
          "execution_count": 9
        }
      ],
      "source": [
        "# input_dim : input dimention of the first layer, which you have calculated before.\n",
        "layers = [\n",
        "    (input_dim, 512),\n",
        "    (512, 256),\n",
        "    (256, 128),\n",
        "    (128, 64),\n",
        "    (64, num_classes)\n",
        "]\n",
        "num_layers = len(layers)\n",
        "parameters = {}\n",
        "\n",
        "# setting the device\n",
        "device = torch.device(\"cuda\" if torch.cuda.is_available() else \"cpu\")\n",
        "\n",
        "# adding the parameters to the dictionary\n",
        "for i, shape in enumerate(layers):\n",
        "    add_linear_layer(parameters, shape, device, i)\n",
        "\n",
        "parameters.keys()"
      ]
    },
    {
      "cell_type": "markdown",
      "id": "8bfd2c8e",
      "metadata": {
        "id": "8bfd2c8e"
      },
      "source": [
        "## Defining the required functions\n",
        "\n",
        "In this section, we should define the required functions. For each of these functions, the inputs and the desired outputs are given and you should write all or part of the function. **You are not allowed to use the activation functions and the loss functions implemented in torch**."
      ]
    },
    {
      "cell_type": "markdown",
      "id": "f3b413d8",
      "metadata": {
        "id": "f3b413d8"
      },
      "source": [
        "Computing affine and relu outputs:"
      ]
    },
    {
      "cell_type": "code",
      "execution_count": 11,
      "id": "bebeeb0e",
      "metadata": {
        "id": "bebeeb0e"
      },
      "outputs": [],
      "source": [
        "def affine_forward(x, w, b):\n",
        "    # out = x.mm(w.t()) + b\n",
        "    # this dot did not work out well so I\n",
        "    out = torch.mm(x, w) + b\n",
        "\n",
        "    return out\n",
        "\n",
        "    ## FILL HERE\n",
        "\n",
        "\n",
        "def relu(x):\n",
        "    return torch.max(torch.tensor(0, dtype=x.dtype, device=x.device), x)\n",
        "    ## FILL HERE"
      ]
    },
    {
      "cell_type": "markdown",
      "id": "5d9baa5e",
      "metadata": {
        "id": "5d9baa5e"
      },
      "source": [
        "Function `model` returns output of the whole model for the input `x` using the parameters:"
      ]
    },
    {
      "cell_type": "code",
      "execution_count": 12,
      "id": "d2562962",
      "metadata": {
        "id": "d2562962"
      },
      "outputs": [],
      "source": [
        "def model(x: torch.Tensor, parameters, num_layers=num_layers):\n",
        "    # Get the number of batches\n",
        "    B = x.shape[0]\n",
        "    # Flatten the input tensor\n",
        "    x = x.view(B, -1)\n",
        "    # Loop through the layers, except the last one\n",
        "    for i in range(num_layers-1):\n",
        "        # Apply affine transformation\n",
        "        x = affine_forward(x, parameters[f'w{i}'], parameters[f'b{i}'])\n",
        "        # Apply ReLU activation function\n",
        "        x = relu(x)\n",
        "\n",
        "    # Apply affine transformation for the last layer\n",
        "    output = affine_forward(x, parameters[f'w{num_layers-1}'], parameters[f'b{num_layers-1}'])\n",
        "\n",
        "    return output\n"
      ]
    },
    {
      "cell_type": "markdown",
      "id": "d17a9b4c",
      "metadata": {
        "id": "d17a9b4c"
      },
      "source": [
        "Implementing cross entropy loss:"
      ]
    },
    {
      "cell_type": "code",
      "execution_count": 13,
      "id": "6959621c",
      "metadata": {
        "id": "6959621c"
      },
      "outputs": [],
      "source": [
        "\n",
        "def cross_entropy_loss(scores, y):\n",
        "    n = len(y)\n",
        "    exp_scores = torch.exp(scores)\n",
        "    probs = exp_scores / torch.sum(exp_scores, dim=1, keepdim=True)\n",
        "    correct_logprobs = -torch.log(probs[range(n), y])\n",
        "    loss = torch.sum(correct_logprobs) / n\n",
        "    return loss"
      ]
    },
    {
      "cell_type": "markdown",
      "id": "15a589af",
      "metadata": {
        "id": "15a589af"
      },
      "source": [
        "Implementing a function for optimizing paramters and a function to zeroing out their gradients:"
      ]
    },
    {
      "cell_type": "code",
      "execution_count": 14,
      "id": "3121c147",
      "metadata": {
        "id": "3121c147"
      },
      "outputs": [],
      "source": [
        "def sgd_optimizer(parameters: dict, learning_rate=0.001):\n",
        "    '''This function gets the parameters and a learning rate. Then updates the parameters using their\n",
        "    gradient. Finally, you should zero the gradients of the parameters after updating\n",
        "    the parameter value.'''\n",
        "\n",
        "    for param in parameters.values():\n",
        "        param.data -= learning_rate * param.grad\n",
        "\n",
        "    # Zero gradients\n",
        "    for param in parameters.values():\n",
        "        param.grad = None"
      ]
    },
    {
      "cell_type": "markdown",
      "id": "e17b4cf8",
      "metadata": {
        "id": "e17b4cf8"
      },
      "source": [
        "Training functions:"
      ]
    },
    {
      "cell_type": "code",
      "execution_count": 18,
      "id": "76c0f03b",
      "metadata": {
        "id": "76c0f03b"
      },
      "outputs": [],
      "source": [
        "def accuracy(y_pred: np.ndarray, y_true: np.ndarray):\n",
        "    ## FILL HERE\n",
        "    acc = np.mean(y_pred == y_true)\n",
        "\n",
        "    return acc\n",
        "\n",
        "def train(train_loader, learning_rate=0.001, epoch=None):\n",
        "    '''This function implements the training loop for a single epoch. For each batch you should do the following:\n",
        "        1- Calculate the output of the model to the given input batch\n",
        "        2- Calculate the loss based on the model output\n",
        "        3- Update the gradients using backward method\n",
        "        4- Optimize the model parameters using the sgd_optimizer function defined previously\n",
        "        5- Print the train loss (Show the epoch and batch as well)\n",
        "        '''\n",
        "    train_loss = 0\n",
        "    N_train = len(train_loader.dataset)\n",
        "\n",
        "    # Creating empty lists Y and Y_pred to store the labels and predictions of each batch\n",
        "    # for calculateing the accuracy later\n",
        "    Y = []\n",
        "    Y_pred = []\n",
        "\n",
        "\n",
        "    for i, (x, y) in enumerate(train_loader):\n",
        "        x = x.to(device)\n",
        "        y = y.to(device)\n",
        "        p = model(x, parameters)\n",
        "\n",
        "        ## FILL HERE\n",
        "\n",
        "\n",
        "        loss = cross_entropy_loss(p, y)\n",
        "        train_loss += loss.item()\n",
        "\n",
        "        loss.backward()\n",
        "        sgd_optimizer(parameters, learning_rate)\n",
        "\n",
        "\n",
        "        y_pred = p.argmax(dim=-1)\n",
        "        Y.append(y.cpu().numpy())\n",
        "        Y_pred.append(y_pred.cpu().numpy())\n",
        "\n",
        "    Y = np.concatenate(Y)\n",
        "    Y_pred = np.concatenate(Y_pred)\n",
        "    acc = accuracy(Y_pred, Y)\n",
        "    print(f'Accuracy of train set: {acc}')\n",
        "    return train_loss, acc\n",
        "\n",
        "\n",
        "def validate(loader, epoch=None, set_name=None):\n",
        "    '''This function validates the model on the test dataloader. The function goes through each batch and does\n",
        "    the following on each batch:\n",
        "        1- Calculate the model output\n",
        "        2- Calculate the loss using the model output\n",
        "        3- Print the loss for each batch and epoch\n",
        "\n",
        "    Finally the function calculates the model accuracy.'''\n",
        "    total_loss = 0\n",
        "    N = len(loader.dataset)\n",
        "\n",
        "    # Creating empty lists Y and Y_pred to store the labels and predictions of each batch\n",
        "    # for calculateing the accuracy later\n",
        "    Y = []\n",
        "    Y_pred = []\n",
        "    for i, (x, y) in enumerate(train_loader):\n",
        "        x = x.to(device)\n",
        "        y = y.to(device)\n",
        "        p = model(x, parameters)\n",
        "\n",
        "        ## FILL HERE\n",
        "        # computing the loss\n",
        "        loss = cross_entropy_loss(p, y)\n",
        "        total_loss += loss.item()\n",
        "\n",
        "        y_pred = p.argmax(dim=-1)\n",
        "        Y.append(y.cpu().numpy())\n",
        "        Y_pred.append(y_pred.cpu().numpy())\n",
        "    Y = np.concatenate(Y)\n",
        "    Y_pred = np.concatenate(Y_pred)\n",
        "    total_loss /= N\n",
        "    acc = accuracy(Y_pred, Y)\n",
        "    print(f'Accuracy of {set_name} set: {acc}')\n",
        "\n",
        "    return total_loss, acc"
      ]
    },
    {
      "cell_type": "code",
      "execution_count": 17,
      "id": "87ebb4b6",
      "metadata": {
        "id": "87ebb4b6"
      },
      "outputs": [],
      "source": [
        "train_losses = []\n",
        "test_losses = []\n",
        "train_accuracies = []\n",
        "test_accuracies = []"
      ]
    },
    {
      "cell_type": "code",
      "execution_count": 20,
      "id": "32325214",
      "metadata": {
        "id": "32325214"
      },
      "outputs": [],
      "source": [
        "def train_model(dataloaders, num_epochs, learning_rate=0.001, model_name='pytorch_model'):\n",
        "    '''This function trains the model for the number of epochs given and stores, calculates and prints the train\n",
        "    and test losses and accuracies. Finally, it plots the accuracy and loss history for training and test sets'''\n",
        "    train_loader, test_loader = dataloaders\n",
        "\n",
        "    for epoch in range(num_epochs):\n",
        "        train_loss, train_acc = train(train_loader, learning_rate, epoch)\n",
        "        test_loss, test_acc = validate(test_loader, epoch, set_name='test')\n",
        "\n",
        "        train_losses.append(train_loss)\n",
        "        test_losses.append(test_loss)\n",
        "        train_accuracies.append(train_acc)\n",
        "        test_accuracies.append(test_acc)\n",
        "\n",
        "\n",
        "    # Plot the loss history of training and test sets\n",
        "    plt.figure(figsize=(12, 4))\n",
        "    plt.subplot(1, 2, 1)\n",
        "    plt.plot(range(1, len(train_losses) + 1), train_losses, label='Train Loss')\n",
        "    plt.plot(range(1, len(test_losses) + 1), test_losses, label='Test Loss')\n",
        "    plt.xlabel('Epochs')\n",
        "    plt.ylabel('Loss')\n",
        "    plt.title('Loss History')\n",
        "    plt.grid()\n",
        "    plt.legend()\n",
        "\n",
        "    # Plot the accuracy history of training and test sets\n",
        "    plt.subplot(1, 2, 2)\n",
        "    plt.plot(range(1, len(train_accuracies) + 1), train_accuracies, label='Train Accuracy')\n",
        "    plt.plot(range(1, len(test_accuracies) + 1), test_accuracies, label='Test Accuracy')\n",
        "    plt.xlabel('Epochs')\n",
        "    plt.ylabel('Accuracy')\n",
        "    plt.title('Accuracy History')\n",
        "    plt.grid()\n",
        "    plt.legend()\n",
        "\n",
        "    plt.show()\n",
        ""
      ]
    },
    {
      "cell_type": "code",
      "execution_count": 21,
      "id": "2ec4bdd2",
      "metadata": {
        "colab": {
          "base_uri": "https://localhost:8080/",
          "height": 1000
        },
        "id": "2ec4bdd2",
        "outputId": "d3c023e6-14f2-4ab6-8a8f-6f763af828a4"
      },
      "outputs": [
        {
          "output_type": "stream",
          "name": "stdout",
          "text": [
            "Accuracy of train set: 0.27631666666666665\n",
            "Accuracy of test set: 0.2982666666666667\n",
            "Accuracy of train set: 0.28078333333333333\n",
            "Accuracy of test set: 0.2938\n",
            "Accuracy of train set: 0.5020166666666667\n",
            "Accuracy of test set: 0.5905333333333334\n",
            "Accuracy of train set: 0.64775\n",
            "Accuracy of test set: 0.6625166666666666\n",
            "Accuracy of train set: 0.7045333333333333\n",
            "Accuracy of test set: 0.7163333333333334\n",
            "Accuracy of train set: 0.7352333333333333\n",
            "Accuracy of test set: 0.7509833333333333\n",
            "Accuracy of train set: 0.7546166666666667\n",
            "Accuracy of test set: 0.7714833333333333\n",
            "Accuracy of train set: 0.7715\n",
            "Accuracy of test set: 0.76655\n",
            "Accuracy of train set: 0.7839833333333334\n",
            "Accuracy of test set: 0.78015\n",
            "Accuracy of train set: 0.7965166666666667\n",
            "Accuracy of test set: 0.7875\n",
            "Accuracy of train set: 0.80555\n",
            "Accuracy of test set: 0.7874333333333333\n",
            "Accuracy of train set: 0.81365\n",
            "Accuracy of test set: 0.8193333333333334\n",
            "Accuracy of train set: 0.8193\n",
            "Accuracy of test set: 0.82865\n",
            "Accuracy of train set: 0.8242833333333334\n",
            "Accuracy of test set: 0.8318\n",
            "Accuracy of train set: 0.8292833333333334\n",
            "Accuracy of test set: 0.8220833333333334\n",
            "Accuracy of train set: 0.8351666666666666\n",
            "Accuracy of test set: 0.8175333333333333\n",
            "Accuracy of train set: 0.8392833333333334\n",
            "Accuracy of test set: 0.8286666666666667\n",
            "Accuracy of train set: 0.8414166666666667\n",
            "Accuracy of test set: 0.84265\n",
            "Accuracy of train set: 0.8461833333333333\n",
            "Accuracy of test set: 0.85065\n",
            "Accuracy of train set: 0.84935\n",
            "Accuracy of test set: 0.8446\n",
            "Accuracy of train set: 0.8524\n",
            "Accuracy of test set: 0.8520166666666666\n",
            "Accuracy of train set: 0.8553333333333333\n",
            "Accuracy of test set: 0.8504666666666667\n",
            "Accuracy of train set: 0.8593666666666666\n",
            "Accuracy of test set: 0.86305\n",
            "Accuracy of train set: 0.8612666666666666\n",
            "Accuracy of test set: 0.86425\n",
            "Accuracy of train set: 0.8622833333333333\n",
            "Accuracy of test set: 0.8706833333333334\n"
          ]
        },
        {
          "output_type": "display_data",
          "data": {
            "text/plain": [
              "<Figure size 1200x400 with 2 Axes>"
            ],
            "image/png": "[encoded data removed]"
          },
          "metadata": {}
        }
      ],
      "source": [
        "# here we decided that 25 epochs along with 0.005 learning rate is sufficient\n",
        "\n",
        "train_model([train_loader, test_loader], num_epochs=25, learning_rate=0.005)\n",
        "\n",
        "# As you see, the accuracy of the train/test set increases as training continues..."
      ]
    },
    {
      "cell_type": "code",
      "execution_count": 22,
      "id": "ceb5783f",
      "metadata": {
        "colab": {
          "base_uri": "https://localhost:8080/"
        },
        "id": "ceb5783f",
        "outputId": "960b46c1-d8b1-462c-94a8-99f8d42c8c04"
      },
      "outputs": [
        {
          "output_type": "stream",
          "name": "stdout",
          "text": [
            "--------------------------------------------------\n",
            "Final test accuracy: 0.8706833333333334\n",
            "--------------------------------------------------\n"
          ]
        }
      ],
      "source": [
        "print('--------------------------------------------------')\n",
        "print(f'Final test accuracy: {test_accuracies[-1]}')\n",
        "print('--------------------------------------------------')\n",
        "# accuracy which is good\n",
        "#"
      ]
    },
    {
      "cell_type": "markdown",
      "id": "a5e128ed",
      "metadata": {
        "id": "a5e128ed"
      },
      "source": [
        "## Visualization of the labels and predictions\n",
        "\n",
        "In this section, you should visual one image from each class and show both the actual label and the predicted label for that image."
      ]
    },
    {
      "cell_type": "code",
      "execution_count": 23,
      "id": "e206ec8a",
      "metadata": {
        "colab": {
          "base_uri": "https://localhost:8080/",
          "height": 191
        },
        "id": "e206ec8a",
        "outputId": "1b2ff196-c99b-4301-b04d-c9dcdeda2825"
      },
      "outputs": [
        {
          "output_type": "display_data",
          "data": {
            "text/plain": [
              "<Figure size 2000x500 with 10 Axes>"
            ],
            "image/png": "[encoded data removed]"
          },
          "metadata": {}
        }
      ],
      "source": [
        "def visualize_predictions(dataset, parameters, num_classes=num_classes):\n",
        "    # Get the mapping from class names to indices\n",
        "    class_to_idx = dataset.class_to_idx\n",
        "    # Create a reverse mapping from indices to class names\n",
        "    idx_to_class = {v: k for k, v in class_to_idx.items()}\n",
        "\n",
        "    # Create a figure with subplots for each class\n",
        "    fig, axs = plt.subplots(1, num_classes, figsize=(20, 5))\n",
        "\n",
        "    # Set to keep track of sampled classes\n",
        "    sampled = set()\n",
        "    for i in range(len(dataset)):\n",
        "        # Get the image and label from the dataset\n",
        "        img, label = dataset[i]\n",
        "        # Check if the class has already been sampled\n",
        "        if label not in sampled:\n",
        "            # Add a batch dimension and move to the appropriate device\n",
        "            img_tensor = img.unsqueeze(0).to(device)\n",
        "            with torch.no_grad():\n",
        "                # Get the model's output\n",
        "                output = model(img_tensor, parameters)\n",
        "                # Get the predicted label\n",
        "                predicted_label = output.argmax(dim=-1).item()\n",
        "\n",
        "            # Display the image and the true and predicted labels\n",
        "            axs[label].imshow(img.squeeze(), cmap='gray')\n",
        "            axs[label].set_title(f'True: {idx_to_class[label]}\\nPred: {idx_to_class[predicted_label]}')\n",
        "            axs[label].axis('off')\n",
        "            # Mark this class as sampled\n",
        "            sampled.add(label)\n",
        "            # Stop if all classes have been sampled\n",
        "            if len(sampled) == num_classes:\n",
        "                break\n",
        "\n",
        "    # Show the plot\n",
        "    plt.show()\n",
        "\n",
        "# Call the function to visualize predictions\n",
        "visualize_predictions(test_set, parameters)\n"
      ]
    }
  ],
  "metadata": {
    "kernelspec": {
      "display_name": "Python 3",
      "language": "python",
      "name": "python3"
    },
    "language_info": {
      "codemirror_mode": {
        "name": "ipython",
        "version": 3
      },
      "file_extension": ".py",
      "mimetype": "text/x-python",
      "name": "python",
      "nbconvert_exporter": "python",
      "pygments_lexer": "ipython3",
      "version": "3.11.7"
    },
    "colab": {
      "provenance": []
    }
  },
  "nbformat": 4,
  "nbformat_minor": 5
}