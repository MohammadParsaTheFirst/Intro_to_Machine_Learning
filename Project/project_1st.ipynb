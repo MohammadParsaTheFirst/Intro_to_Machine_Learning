{
  "metadata": {
    "colab": {
      "provenance": [],
      "gpuType": "T4",
      "name": "notebookdb579be6ca",
      "include_colab_link": true
    },
    "kernelspec": {
      "name": "python3",
      "display_name": "Python 3",
      "language": "python"
    },
    "language_info": {
      "name": "python",
      "version": "3.10.13",
      "mimetype": "text/x-python",
      "codemirror_mode": {
        "name": "ipython",
        "version": 3
      },
      "pygments_lexer": "ipython3",
      "nbconvert_exporter": "python",
      "file_extension": ".py"
    },
    "accelerator": "GPU",
    "kaggle": {
      "accelerator": "gpu",
      "dataSources": [],
      "dockerImageVersionId": 30733,
      "isInternetEnabled": true,
      "language": "python",
      "sourceType": "notebook",
      "isGpuEnabled": true
    }
  },
  "nbformat_minor": 0,
  "nbformat": 4,
  "cells": [
    {
      "cell_type": "markdown",
      "metadata": {
        "id": "view-in-github",
        "colab_type": "text"
      },
      "source": [
        "<a href=\"https://colab.research.google.com/github/mahshadmoradi/Machine-Learning/blob/main/project_1st.ipynb\" target=\"_parent\"><img src=\"https://colab.research.google.com/assets/colab-badge.svg\" alt=\"Open In Colab\"/></a>"
      ]
    },
    {
      "cell_type": "code",
      "source": [
        "import torch\n",
        "import torch.nn as nn\n",
        "import torch.nn.functional as F\n",
        "import torchvision\n",
        "import torchvision.transforms as transforms\n",
        "from torchvision.models import resnet18\n",
        "from torch.utils.data import DataLoader, random_split, Subset, TensorDataset\n",
        "from sklearn.metrics import f1_score, accuracy_score, precision_score, recall_score, roc_auc_score\n",
        "import numpy as np\n",
        "from tqdm import tqdm\n",
        "import torchvision.models as models\n",
        "from torchvision.models import ResNet18_Weights\n",
        "from sklearn.linear_model import LogisticRegression\n",
        "from sklearn.model_selection import cross_val_score\n",
        "import random\n",
        "import matplotlib.pyplot as plt\n",
        "\n",
        "device = torch.device('cuda' if torch.cuda.is_available() else 'cpu')\n",
        "print(device)"
      ],
      "metadata": {
        "colab": {
          "base_uri": "https://localhost:8080/"
        },
        "id": "Nl1nH2x54Qa-",
        "outputId": "03bf5cd7-846b-44e2-9b0e-0d8589267d1e",
        "execution": {
          "iopub.status.busy": "2024-07-01T11:25:45.187547Z",
          "iopub.execute_input": "2024-07-01T11:25:45.188077Z",
          "iopub.status.idle": "2024-07-01T11:25:45.195826Z",
          "shell.execute_reply.started": "2024-07-01T11:25:45.188052Z",
          "shell.execute_reply": "2024-07-01T11:25:45.194942Z"
        },
        "trusted": true
      },
      "execution_count": null,
      "outputs": [
        {
          "name": "stdout",
          "text": "cuda\n",
          "output_type": "stream"
        }
      ]
    },
    {
      "cell_type": "markdown",
      "source": [
        "The transforms here are considered as they are because Resnet18 from torchvision.models is an ImageNet implementation. Because ImageNet samples much bigger(224x224) than CIFAR10/100 (32x32), the first layers designed to aggressively downsample the input ('stem Network'). It's lead to missing much valuable information on small CIFAR10/100 images. Therefore I upsample it in transformation for better results."
      ],
      "metadata": {
        "id": "_ZyCofo8JGm6"
      }
    },
    {
      "cell_type": "code",
      "source": [
        "# Define the dataset and data loaders\n",
        "transform_train = transforms.Compose([\n",
        "    transforms.RandomResizedCrop(224, scale=(0.8, 1.0)),  # Resize to 224x224 with random crop\n",
        "    transforms.RandomHorizontalFlip(),\n",
        "    transforms.ToTensor(),\n",
        "    transforms.Normalize((0.4914, 0.4822, 0.4465), (0.2023, 0.1994, 0.2010)),\n",
        "])\n",
        "\n",
        "transform_test = transforms.Compose([\n",
        "    transforms.Resize(256),  # Resize the shorter side to 256 pixels\n",
        "    transforms.CenterCrop(224),  # Crop the center 224x224\n",
        "    transforms.ToTensor(),\n",
        "    transforms.Normalize((0.4914, 0.4822, 0.4465), (0.2023, 0.1994, 0.2010)),\n",
        "])\n",
        "\n",
        "train_dataset = torchvision.datasets.CIFAR10(root='./data', train=True, download=True, transform=transform_train)\n",
        "test_dataset = torchvision.datasets.CIFAR10(root='./data', train=False, download=True, transform=transform_test)"
      ],
      "metadata": {
        "id": "6lO90T6l4daS",
        "colab": {
          "base_uri": "https://localhost:8080/"
        },
        "outputId": "2fbcdcb5-1961-48ee-baac-d2417c3288ff",
        "execution": {
          "iopub.status.busy": "2024-07-01T11:25:48.86881Z",
          "iopub.execute_input": "2024-07-01T11:25:48.869184Z",
          "iopub.status.idle": "2024-07-01T11:25:55.880733Z",
          "shell.execute_reply.started": "2024-07-01T11:25:48.869156Z",
          "shell.execute_reply": "2024-07-01T11:25:55.879745Z"
        },
        "trusted": true
      },
      "execution_count": null,
      "outputs": [
        {
          "name": "stdout",
          "text": "Downloading https://www.cs.toronto.edu/~kriz/cifar-10-python.tar.gz to ./data/cifar-10-python.tar.gz\n",
          "output_type": "stream"
        },
        {
          "name": "stderr",
          "text": "100%|██████████| 170498071/170498071 [00:03<00:00, 48675374.70it/s]\n",
          "output_type": "stream"
        },
        {
          "name": "stdout",
          "text": "Extracting ./data/cifar-10-python.tar.gz to ./data\nFiles already downloaded and verified\n",
          "output_type": "stream"
        }
      ]
    },
    {
      "cell_type": "markdown",
      "source": [
        "## Modified ResNet18 model"
      ],
      "metadata": {
        "id": "QDfui22w4gV_"
      }
    },
    {
      "cell_type": "code",
      "source": [
        "class ModifiedResNet18(nn.Module):\n",
        "    def __init__(self):\n",
        "        super(ModifiedResNet18, self).__init__()\n",
        "        # Load the ResNet18 model with the updated way to specify pretrained weights\n",
        "        self.resnet = models.resnet18(weights=ResNet18_Weights.DEFAULT)\n",
        "        self.resnet.fc = nn.Linear(self.resnet.fc.in_features, 10)  # to match CIFAR-10 classes\n",
        "\n",
        "    def forward(self, x):\n",
        "        return self.resnet(x)"
      ],
      "metadata": {
        "id": "3V-x30t79ofL",
        "execution": {
          "iopub.status.busy": "2024-07-01T11:25:57.181815Z",
          "iopub.execute_input": "2024-07-01T11:25:57.182571Z",
          "iopub.status.idle": "2024-07-01T11:25:57.189479Z",
          "shell.execute_reply.started": "2024-07-01T11:25:57.182528Z",
          "shell.execute_reply": "2024-07-01T11:25:57.188298Z"
        },
        "trusted": true
      },
      "execution_count": null,
      "outputs": []
    },
    {
      "cell_type": "code",
      "source": [
        "def train_on_slice(model, dataloader, epochs, criterion, optimizer):\n",
        "    model.train()\n",
        "    for epoch in range(epochs):\n",
        "        for inputs, labels in dataloader:\n",
        "            inputs, labels = inputs.to(device), labels.to(device)\n",
        "            optimizer.zero_grad()\n",
        "            outputs = model(inputs)\n",
        "            loss = criterion(outputs, labels)\n",
        "            loss.backward()\n",
        "            optimizer.step()"
      ],
      "metadata": {
        "id": "Kbm9q3tw91UQ",
        "execution": {
          "iopub.status.busy": "2024-07-01T11:26:01.038674Z",
          "iopub.execute_input": "2024-07-01T11:26:01.039326Z",
          "iopub.status.idle": "2024-07-01T11:26:01.045136Z",
          "shell.execute_reply.started": "2024-07-01T11:26:01.039293Z",
          "shell.execute_reply": "2024-07-01T11:26:01.044178Z"
        },
        "trusted": true
      },
      "execution_count": null,
      "outputs": []
    },
    {
      "cell_type": "code",
      "source": [
        "def shard_and_slice_dataset(dataset, S, R):\n",
        "    shard_size = len(dataset) // S\n",
        "    shards = random_split(dataset, [shard_size] * S)\n",
        "    sliced_shards = []\n",
        "\n",
        "    for shard in shards:\n",
        "        slice_size = len(shard) // R\n",
        "        slices = random_split(shard, [slice_size] * R)\n",
        "        sliced_shards.append(slices)\n",
        "\n",
        "    return sliced_shards\n",
        "\n",
        "\n",
        "def train_models(S, R, epochs):\n",
        "    sliced_shards = shard_and_slice_dataset(train_dataset, S, R)\n",
        "    final_models = []\n",
        "\n",
        "    for shard_id, shard in enumerate(sliced_shards):\n",
        "        accumulated_dataset = None\n",
        "        model = ModifiedResNet18().to(device)\n",
        "        criterion = nn.CrossEntropyLoss()\n",
        "        optimizer = torch.optim.Adam(model.parameters(), lr=0.001, weight_decay=35e-5)\n",
        "\n",
        "        for slice_id, data_slice in enumerate(shard):\n",
        "            if accumulated_dataset is None:\n",
        "                accumulated_dataset = data_slice\n",
        "            else:\n",
        "                accumulated_dataset = torch.utils.data.ConcatDataset([accumulated_dataset, data_slice])\n",
        "\n",
        "            dataloader = DataLoader(accumulated_dataset, batch_size=256, shuffle=True)\n",
        "            print(f\"Training Shard {shard_id+1}, Slice {slice_id+1}\")\n",
        "            train_on_slice(model, dataloader, epochs, criterion, optimizer)\n",
        "\n",
        "            final_models.append(model.state_dict())\n",
        "\n",
        "    return final_models"
      ],
      "metadata": {
        "id": "ZKYLJ-7F92a6",
        "execution": {
          "iopub.status.busy": "2024-07-01T11:26:03.024398Z",
          "iopub.execute_input": "2024-07-01T11:26:03.025234Z",
          "iopub.status.idle": "2024-07-01T11:26:03.034728Z",
          "shell.execute_reply.started": "2024-07-01T11:26:03.025198Z",
          "shell.execute_reply": "2024-07-01T11:26:03.033763Z"
        },
        "trusted": true
      },
      "execution_count": null,
      "outputs": []
    },
    {
      "cell_type": "code",
      "source": [
        "def majority_voting(models, dataloader):\n",
        "    all_outputs = []\n",
        "\n",
        "    for model_dict in models:\n",
        "        model = ModifiedResNet18().to(device)\n",
        "        model.load_state_dict(model_dict)\n",
        "        model.eval()\n",
        "\n",
        "        outputs = []\n",
        "        with torch.no_grad():\n",
        "            for inputs, _ in dataloader:\n",
        "                inputs = inputs.to(device)\n",
        "                output = model(inputs)\n",
        "                outputs.append(F.softmax(output, dim=1).cpu().numpy())\n",
        "\n",
        "        all_outputs.append(np.vstack(outputs))\n",
        "\n",
        "    # Stack all the outputs from different models\n",
        "    all_outputs = np.array(all_outputs)\n",
        "\n",
        "    # Sum the probabilities across all models\n",
        "    summed_outputs = np.sum(all_outputs, axis=0)\n",
        "\n",
        "    # Normalize to ensure they sum to 1\n",
        "    final_outputs = summed_outputs / np.sum(summed_outputs, axis=1, keepdims=True)\n",
        "\n",
        "    # Calculate the final predictions\n",
        "    final_preds = final_outputs.argmax(axis=1)\n",
        "\n",
        "    return final_preds, final_outputs"
      ],
      "metadata": {
        "id": "VIWbGiG9-DHO",
        "execution": {
          "iopub.status.busy": "2024-07-01T11:26:07.184342Z",
          "iopub.execute_input": "2024-07-01T11:26:07.185192Z",
          "iopub.status.idle": "2024-07-01T11:26:07.192891Z",
          "shell.execute_reply.started": "2024-07-01T11:26:07.185156Z",
          "shell.execute_reply": "2024-07-01T11:26:07.19194Z"
        },
        "trusted": true
      },
      "execution_count": null,
      "outputs": []
    },
    {
      "cell_type": "code",
      "source": [
        "def adaptive_aggregation(models, dataloader):\n",
        "    all_outputs = []\n",
        "    for model_dict in models:\n",
        "        model = ModifiedResNet18().to(device)\n",
        "        model.load_state_dict(model_dict)\n",
        "        model.eval()\n",
        "        outputs = []\n",
        "        with torch.no_grad():\n",
        "            for inputs, _ in dataloader:\n",
        "                inputs = inputs.to(device)\n",
        "                output = model(inputs)\n",
        "                outputs.append(F.softmax(output, dim=1).cpu().numpy())\n",
        "        all_outputs.append(np.vstack(outputs))\n",
        "\n",
        "    all_outputs = np.array(all_outputs)\n",
        "    # Calculate norms for each model's outputs\n",
        "    norms = np.linalg.norm(all_outputs, axis=(1, 2), keepdims=True)\n",
        "    # Calculate weights\n",
        "    weights = 1 / (norms + 1e-10)\n",
        "    weights /= weights.sum(axis=0, keepdims=True)\n",
        "\n",
        "    # Apply weights to outputs\n",
        "    final_outputs = (all_outputs * weights).sum(axis=0)\n",
        "    final_preds = final_outputs.argmax(axis=1)\n",
        "    return final_preds, final_outputs"
      ],
      "metadata": {
        "id": "s1-nEml2-Eao",
        "execution": {
          "iopub.status.busy": "2024-07-01T11:26:07.663382Z",
          "iopub.execute_input": "2024-07-01T11:26:07.664312Z",
          "iopub.status.idle": "2024-07-01T11:26:07.672344Z",
          "shell.execute_reply.started": "2024-07-01T11:26:07.664278Z",
          "shell.execute_reply": "2024-07-01T11:26:07.671323Z"
        },
        "trusted": true
      },
      "execution_count": null,
      "outputs": []
    },
    {
      "cell_type": "code",
      "source": [
        "def hierarchical_aggregation(models, dataloader):\n",
        "    all_outputs = []\n",
        "    for model_dict in models:\n",
        "        model = ModifiedResNet18().to(device)\n",
        "        model.load_state_dict(model_dict)\n",
        "        model.eval()\n",
        "        outputs = []\n",
        "        with torch.no_grad():\n",
        "            for inputs, _ in dataloader:\n",
        "                inputs = inputs.to(device)\n",
        "                output = model(inputs)\n",
        "                outputs.append(torch.softmax(output, dim=1).cpu().numpy())\n",
        "        all_outputs.append(np.vstack(outputs))\n",
        "\n",
        "    final_outputs = np.mean(all_outputs, axis=0)\n",
        "    final_preds = final_outputs.argmax(axis=1)\n",
        "    return final_preds, final_outputs"
      ],
      "metadata": {
        "id": "wuRJD-MT-Hmv",
        "execution": {
          "iopub.status.busy": "2024-07-01T11:26:08.140738Z",
          "iopub.execute_input": "2024-07-01T11:26:08.141089Z",
          "iopub.status.idle": "2024-07-01T11:26:08.1481Z",
          "shell.execute_reply.started": "2024-07-01T11:26:08.141062Z",
          "shell.execute_reply": "2024-07-01T11:26:08.147133Z"
        },
        "trusted": true
      },
      "execution_count": null,
      "outputs": []
    },
    {
      "cell_type": "code",
      "source": [
        "def evaluate_model(predictions, true_labels, probabilities):\n",
        "    f1 = f1_score(true_labels, predictions, average='macro')\n",
        "    accuracy = accuracy_score(true_labels, predictions)\n",
        "    precision = precision_score(true_labels, predictions, average='macro', zero_division=0)\n",
        "    recall = recall_score(true_labels, predictions, average='macro')\n",
        "    auroc = roc_auc_score(true_labels, probabilities, multi_class='ovr')\n",
        "\n",
        "    return {\n",
        "        'F1 Score': f1,\n",
        "        'Accuracy': accuracy,\n",
        "        'Precision': precision,\n",
        "        'Recall': recall,\n",
        "        'AUROC': auroc\n",
        "    }\n",
        "\n",
        "def test_models(models, aggregation_methods, dataloader):\n",
        "    all_results = {}\n",
        "\n",
        "    for method_name, method in aggregation_methods.items():\n",
        "        print(f\"Evaluating using {method_name}\")\n",
        "        preds, probs = method(models, dataloader)\n",
        "        true_labels = np.concatenate([labels.numpy() for _, labels in dataloader])\n",
        "        results = evaluate_model(preds, true_labels, probs)\n",
        "        all_results[method_name] = results\n",
        "\n",
        "    return all_results"
      ],
      "metadata": {
        "id": "c3z2CeT9-K9w",
        "execution": {
          "iopub.status.busy": "2024-07-01T11:26:09.021854Z",
          "iopub.execute_input": "2024-07-01T11:26:09.022573Z",
          "iopub.status.idle": "2024-07-01T11:26:09.030743Z",
          "shell.execute_reply.started": "2024-07-01T11:26:09.022535Z",
          "shell.execute_reply": "2024-07-01T11:26:09.029676Z"
        },
        "trusted": true
      },
      "execution_count": null,
      "outputs": []
    },
    {
      "cell_type": "code",
      "source": [
        "# Parameters\n",
        "S_values = [5, 10, 20]\n",
        "R_values = [5, 10, 20]\n",
        "epochs = 10\n",
        "\n",
        "# Aggregation methods\n",
        "aggregation_methods = {\n",
        "    'Majority Voting': majority_voting,\n",
        "    'Adaptive Aggregation': adaptive_aggregation,\n",
        "    'Hierarchical Aggregation': hierarchical_aggregation\n",
        "}\n",
        "\n",
        "def train_and_test(S, R, epochs):\n",
        "    print(f\"Training with S={S}, R={R}\")\n",
        "    all_models = train_models(S, R, epochs)\n",
        "    test_loader = DataLoader(test_dataset, batch_size=256, shuffle=False)\n",
        "    results = test_models(all_models, aggregation_methods, test_loader)\n",
        "    print(f\"\\nResults for S={S}, R={R}: {results}\")"
      ],
      "metadata": {
        "id": "oIoE4VjX73Vo",
        "execution": {
          "iopub.status.busy": "2024-07-01T11:26:10.220767Z",
          "iopub.execute_input": "2024-07-01T11:26:10.221567Z",
          "iopub.status.idle": "2024-07-01T11:26:10.227822Z",
          "shell.execute_reply.started": "2024-07-01T11:26:10.221537Z",
          "shell.execute_reply": "2024-07-01T11:26:10.226763Z"
        },
        "trusted": true
      },
      "execution_count": null,
      "outputs": []
    },
    {
      "cell_type": "markdown",
      "source": [
        "##Part 2"
      ],
      "metadata": {
        "id": "TcTIkGO_juk5"
      }
    },
    {
      "cell_type": "code",
      "source": [
        "def select_data_to_forget(dataset, num_forget):\n",
        "    indices = np.random.choice(len(dataset), num_forget, replace=False)\n",
        "#     indices = np.arange(num_forget)\n",
        "\n",
        "#     # Generate a list of all indices in the dataset\n",
        "#     all_indices = list(range(len(dataset)))\n",
        "\n",
        "#     # Randomly select 'num_forget' indices to forget\n",
        "#     indices = random.sample(all_indices, num_forget)\n",
        "\n",
        "    forget_set = Subset(dataset, indices)\n",
        "    return indices, forget_set"
      ],
      "metadata": {
        "id": "3dUll6Iljuk5",
        "execution": {
          "iopub.status.busy": "2024-07-01T11:26:42.700419Z",
          "iopub.execute_input": "2024-07-01T11:26:42.701175Z",
          "iopub.status.idle": "2024-07-01T11:26:42.706343Z",
          "shell.execute_reply.started": "2024-07-01T11:26:42.701141Z",
          "shell.execute_reply": "2024-07-01T11:26:42.705342Z"
        },
        "trusted": true
      },
      "execution_count": null,
      "outputs": []
    },
    {
      "cell_type": "code",
      "source": [
        "def identify_shards_containing_data(sliced_shards, forget_indices):\n",
        "    shards_to_retrain = set()\n",
        "    total_indices = np.arange(len(train_dataset))\n",
        "\n",
        "    shard_size = len(train_dataset) // len(sliced_shards)\n",
        "\n",
        "    for shard_id, shard_slices in enumerate(sliced_shards):\n",
        "        start_idx = shard_id * shard_size\n",
        "        end_idx = start_idx + shard_size\n",
        "        shard_indices_global = total_indices[start_idx:end_idx]\n",
        "\n",
        "        for slice_id, data_slice in enumerate(shard_slices):\n",
        "            slice_start_idx = start_idx + slice_id * (shard_size // len(shard_slices))\n",
        "            slice_end_idx = slice_start_idx + (shard_size // len(shard_slices))\n",
        "            slice_indices_global = total_indices[slice_start_idx:slice_end_idx]\n",
        "\n",
        "            if set(slice_indices_global).intersection(forget_indices):\n",
        "                shards_to_retrain.add(shard_id)\n",
        "                break\n",
        "\n",
        "    return shards_to_retrain"
      ],
      "metadata": {
        "id": "aNHg_Sacjuk5",
        "execution": {
          "iopub.status.busy": "2024-07-01T11:26:47.421094Z",
          "iopub.execute_input": "2024-07-01T11:26:47.42143Z",
          "iopub.status.idle": "2024-07-01T11:26:47.430598Z",
          "shell.execute_reply.started": "2024-07-01T11:26:47.421406Z",
          "shell.execute_reply": "2024-07-01T11:26:47.429676Z"
        },
        "trusted": true
      },
      "execution_count": null,
      "outputs": []
    },
    {
      "cell_type": "code",
      "source": [
        "def evaluate_on_set(models, forget_set, aggregation_methods):\n",
        "    forget_loader = DataLoader(forget_set, batch_size=256, shuffle=False)\n",
        "    results = test_models(models, aggregation_methods, forget_loader)\n",
        "    return results"
      ],
      "metadata": {
        "id": "cfib6lk3juk6",
        "execution": {
          "iopub.status.busy": "2024-07-01T11:26:48.703169Z",
          "iopub.execute_input": "2024-07-01T11:26:48.7042Z",
          "iopub.status.idle": "2024-07-01T11:26:48.709828Z",
          "shell.execute_reply.started": "2024-07-01T11:26:48.704158Z",
          "shell.execute_reply": "2024-07-01T11:26:48.708631Z"
        },
        "trusted": true
      },
      "execution_count": null,
      "outputs": []
    },
    {
      "cell_type": "code",
      "source": [
        "# def unlearn_models(S, R, epochs, device, forget_indices, initial_models):\n",
        "#     original_sliced_shards = shard_and_slice_dataset(train_dataset, S, R)\n",
        "#     shards_to_retrain = identify_shards_containing_data(original_sliced_shards, forget_indices)\n",
        "#     final_models = []\n",
        "\n",
        "#     for shard_id, shard in enumerate(original_sliced_shards):\n",
        "#         if shard_id not in shards_to_retrain:\n",
        "#             final_models.append(initial_models[shard_id])\n",
        "#             continue\n",
        "\n",
        "#         # Collect all indices in the shard\n",
        "#         shard_indices = []\n",
        "#         for slice_ in shard:\n",
        "#             shard_indices.extend(slice_.indices)\n",
        "\n",
        "#         # Remove the forget indices from the shard\n",
        "#         updated_shard_indices = [idx for idx in shard_indices if idx not in forget_indices]\n",
        "#         updated_shard = torch.utils.data.Subset(train_dataset, updated_shard_indices)\n",
        "\n",
        "#         # Slice the updated shard\n",
        "#         slice_size = len(updated_shard) // R\n",
        "#         if len(updated_shard) % R != 0:\n",
        "#             slice_sizes = [slice_size + 1 if i < len(updated_shard) % R else slice_size for i in range(R)]\n",
        "#         else:\n",
        "#             slice_sizes = [slice_size] * R\n",
        "#         updated_slices = random_split(updated_shard, slice_sizes)\n",
        "\n",
        "#         # Retrain the shard incrementally on its slices\n",
        "#         accumulated_dataset = None\n",
        "#         model = ModifiedResNet18().to(device)\n",
        "#         criterion = nn.CrossEntropyLoss()\n",
        "#         optimizer = torch.optim.Adam(model.parameters(), lr=0.001, weight_decay=35e-5)\n",
        "\n",
        "#         for slice_id, data_slice in enumerate(updated_slices):\n",
        "#             if accumulated_dataset is None:\n",
        "#                 accumulated_dataset = data_slice\n",
        "#             else:\n",
        "#                 accumulated_dataset = torch.utils.data.ConcatDataset([accumulated_dataset, data_slice])\n",
        "\n",
        "#             dataloader = DataLoader(accumulated_dataset, batch_size=256, shuffle=True)\n",
        "#             print(f\"Retraining Shard {shard_id+1}, Slice {slice_id+1}\")\n",
        "#             train_on_slice(model, dataloader, epochs*2, criterion, optimizer, device)\n",
        "\n",
        "#         final_models.append(model.state_dict())\n",
        "\n",
        "#     return final_models"
      ],
      "metadata": {
        "id": "w0b_PL8mjuk6",
        "execution": {
          "iopub.status.busy": "2024-06-29T15:47:09.31348Z",
          "iopub.execute_input": "2024-06-29T15:47:09.314264Z",
          "iopub.status.idle": "2024-06-29T15:47:09.325511Z",
          "shell.execute_reply.started": "2024-06-29T15:47:09.314234Z",
          "shell.execute_reply": "2024-06-29T15:47:09.32441Z"
        },
        "trusted": true
      },
      "execution_count": null,
      "outputs": []
    },
    {
      "cell_type": "code",
      "source": [
        "# def unlearn_models(S, R, epochs, device, forget_indices, initial_models):\n",
        "#     original_sliced_shards = shard_and_slice_dataset(train_dataset, S, R)\n",
        "#     shards_to_retrain = identify_shards_containing_data(original_sliced_shards, forget_indices)\n",
        "#     final_models = []\n",
        "\n",
        "#     slice_count_per_shard = len(original_sliced_shards[0])  # Assuming all shards have equal slices\n",
        "\n",
        "#     for shard_id, shard in enumerate(original_sliced_shards):\n",
        "#         if shard_id not in shards_to_retrain:\n",
        "#             final_models.append(initial_models[(shard_id + 1) * slice_count_per_shard - 1])\n",
        "#             continue\n",
        "\n",
        "#         # Identify the last slice in the shard that does not contain forget data\n",
        "#         last_valid_slice_id = None\n",
        "#         shard_indices = []\n",
        "#         for slice_id, data_slice in enumerate(shard):\n",
        "#             shard_indices.extend(data_slice.indices)\n",
        "#             if not set(data_slice.indices).intersection(forget_indices):\n",
        "#                 last_valid_slice_id = slice_id\n",
        "\n",
        "#         # Initialize or use the model from the last valid slice that does not contain forget data\n",
        "#         model = ModifiedResNet18().to(device)\n",
        "#         if last_valid_slice_id is not None:\n",
        "#             model.load_state_dict(initial_models[shard_id * slice_count_per_shard + last_valid_slice_id])\n",
        "#         criterion = nn.CrossEntropyLoss()\n",
        "#         optimizer = torch.optim.Adam(model.parameters(), lr=0.001, weight_decay=35e-5)\n",
        "\n",
        "#         # Accumulate the dataset from the beginning to the last valid slice\n",
        "#         accumulated_dataset = None\n",
        "#         for slice_id in range(last_valid_slice_id + 1 if last_valid_slice_id is not None else 0):\n",
        "#             if accumulated_dataset is None:\n",
        "#                 accumulated_dataset = shard[slice_id]\n",
        "#             else:\n",
        "#                 accumulated_dataset = torch.utils.data.ConcatDataset([accumulated_dataset, shard[slice_id]])\n",
        "\n",
        "#         # Retrain the model from this accumulated dataset\n",
        "#         if accumulated_dataset is not None:\n",
        "#             dataloader = DataLoader(accumulated_dataset, batch_size=256, shuffle=True)\n",
        "#             print(f\"Retraining Shard {shard_id+1}, from beginning to Slice {last_valid_slice_id+1 if last_valid_slice_id is not None else 0}\")\n",
        "#             train_on_slice(model, dataloader, epochs, criterion, optimizer, device)\n",
        "\n",
        "#         # Continue training on the remaining slices, removing forget data from new slices\n",
        "#         for slice_id, data_slice in enumerate(shard[(last_valid_slice_id + 1 if last_valid_slice_id is not None else 0):], start=(last_valid_slice_id + 1 if last_valid_slice_id is not None else 0)):\n",
        "#             # Remove forget indices from the current slice\n",
        "#             current_slice_indices = [idx for idx in data_slice.indices if idx not in forget_indices]\n",
        "#             current_slice = torch.utils.data.Subset(train_dataset, current_slice_indices)\n",
        "\n",
        "#             # Concatenate the new slice to the accumulated dataset\n",
        "#             if accumulated_dataset is None:\n",
        "#                 accumulated_dataset = current_slice\n",
        "#             else:\n",
        "#                 accumulated_dataset = torch.utils.data.ConcatDataset([accumulated_dataset, current_slice])\n",
        "\n",
        "#             dataloader = DataLoader(accumulated_dataset, batch_size=256, shuffle=True)\n",
        "#             print(f\"Retraining Shard {shard_id+1}, Slice {slice_id+1}\")\n",
        "#             train_on_slice(model, dataloader, epochs, criterion, optimizer, device)\n",
        "\n",
        "#         final_models.append(model.state_dict())\n",
        "\n",
        "#     return final_models"
      ],
      "metadata": {
        "execution": {
          "iopub.status.busy": "2024-06-30T06:52:28.60161Z",
          "iopub.execute_input": "2024-06-30T06:52:28.602401Z",
          "iopub.status.idle": "2024-06-30T06:52:28.617506Z",
          "shell.execute_reply.started": "2024-06-30T06:52:28.602366Z",
          "shell.execute_reply": "2024-06-30T06:52:28.616656Z"
        },
        "id": "LyO_doM-uxAA",
        "trusted": true
      },
      "execution_count": null,
      "outputs": []
    },
    {
      "cell_type": "code",
      "source": [
        "def find_last_valid_slice_for_shard(S, shard_id, shard, forget_indices):\n",
        "    last_valid_slice_id = None\n",
        "    shard_size = len(train_dataset) // S\n",
        "    total_indices = np.arange(len(train_dataset))\n",
        "    start_idx = shard_id * shard_size\n",
        "\n",
        "    modified_shard = []\n",
        "\n",
        "    for slice_id, data_slice in enumerate(shard):\n",
        "        slice_start_idx = start_idx + slice_id * (shard_size // len(shard))\n",
        "        slice_end_idx = slice_start_idx + (shard_size // len(shard))\n",
        "        slice_indices_global = total_indices[slice_start_idx:slice_end_idx]\n",
        "\n",
        "        # Check if the current slice contains any forget indices\n",
        "        if not set(slice_indices_global).intersection(forget_indices):\n",
        "            last_valid_slice_id = slice_id\n",
        "\n",
        "        # Remove forget indices from the current slice\n",
        "        current_slice_indices = [idx for idx in slice_indices_global if idx not in forget_indices]\n",
        "        current_slice = Subset(train_dataset, current_slice_indices)\n",
        "\n",
        "        modified_shard.append(current_slice)\n",
        "\n",
        "    return last_valid_slice_id, modified_shard"
      ],
      "metadata": {
        "id": "surgBycbuxAB",
        "execution": {
          "iopub.status.busy": "2024-07-01T11:26:54.301332Z",
          "iopub.execute_input": "2024-07-01T11:26:54.302036Z",
          "iopub.status.idle": "2024-07-01T11:26:54.308678Z",
          "shell.execute_reply.started": "2024-07-01T11:26:54.302004Z",
          "shell.execute_reply": "2024-07-01T11:26:54.307641Z"
        },
        "trusted": true
      },
      "execution_count": null,
      "outputs": []
    },
    {
      "cell_type": "code",
      "source": [
        "def unlearn_models(S, R, epochs, forget_indices, initial_models):\n",
        "\n",
        "    original_sliced_shards = shard_and_slice_dataset(train_dataset, S, R)\n",
        "    shards_to_retrain = identify_shards_containing_data(original_sliced_shards, forget_indices)\n",
        "\n",
        "    final_models = []\n",
        "\n",
        "    for shard_id, shard in enumerate(original_sliced_shards):\n",
        "        if shard_id not in shards_to_retrain:\n",
        "            final_models.append(initial_models[(shard_id + 1) * R - 1])\n",
        "            continue\n",
        "\n",
        "        # Identify the last slice in the shard that does not contain forget data\n",
        "        last_valid_slice_id, modified_shard = find_last_valid_slice_for_shard(S, shard_id, shard, forget_indices)\n",
        "\n",
        "        # Initialize or use the model from the last valid slice that does not contain forget data\n",
        "        model = ModifiedResNet18().to(device)\n",
        "        if last_valid_slice_id is not None:\n",
        "            model.load_state_dict(initial_models[shard_id * R + last_valid_slice_id])\n",
        "        criterion = nn.CrossEntropyLoss()\n",
        "        optimizer = torch.optim.Adam(model.parameters(), lr=0.001, weight_decay=35e-5)\n",
        "\n",
        "        # Accumulate the dataset from the beginning to the last valid slice\n",
        "        accumulated_dataset = None\n",
        "        for slice_id in range(last_valid_slice_id + 1 if last_valid_slice_id is not None else 0):\n",
        "            if accumulated_dataset is None:\n",
        "                accumulated_dataset = shard[slice_id]\n",
        "            else:\n",
        "                accumulated_dataset = torch.utils.data.ConcatDataset([accumulated_dataset, shard[slice_id]])\n",
        "\n",
        "        # Continue training on the remaining slices, removing forget data from new slices\n",
        "        for slice_id, data_slice in enumerate(modified_shard[(last_valid_slice_id + 1 if last_valid_slice_id is not None else 0):], start=(last_valid_slice_id + 1 if last_valid_slice_id is not None else 0)):\n",
        "\n",
        "            # Concatenate the new slice to the accumulated dataset\n",
        "            if accumulated_dataset is None:\n",
        "                accumulated_dataset = data_slice\n",
        "            else:\n",
        "                accumulated_dataset = torch.utils.data.ConcatDataset([accumulated_dataset, data_slice])\n",
        "\n",
        "            dataloader = DataLoader(accumulated_dataset, batch_size=256, shuffle=True)\n",
        "\n",
        "            print(f\"Retraining Shard {shard_id+1}, Slice {slice_id+1}\")\n",
        "            train_on_slice(model, dataloader, epochs, criterion, optimizer)\n",
        "\n",
        "        final_models.append(model.state_dict())\n",
        "\n",
        "    return final_models"
      ],
      "metadata": {
        "id": "XcGNS0TMuxAB",
        "execution": {
          "iopub.status.busy": "2024-07-01T11:26:54.941142Z",
          "iopub.execute_input": "2024-07-01T11:26:54.941507Z",
          "iopub.status.idle": "2024-07-01T11:26:54.953508Z",
          "shell.execute_reply.started": "2024-07-01T11:26:54.941477Z",
          "shell.execute_reply": "2024-07-01T11:26:54.95254Z"
        },
        "trusted": true
      },
      "execution_count": null,
      "outputs": []
    },
    {
      "cell_type": "code",
      "source": [
        "# import gc\n",
        "# torch.cuda.empty_cache()\n",
        "# gc.collect()\n",
        "\n",
        "# Define the number of data points to forget\n",
        "num_forget = 500\n",
        "\n",
        "# Select the data points to forget\n",
        "forget_indices, forget_set = select_data_to_forget(train_dataset, num_forget)\n",
        "\n",
        "# print(forget_indices)\n",
        "print(len(train_dataset))\n",
        "print(len(forget_set))\n",
        "\n",
        "# Parameters\n",
        "epochs = 10\n",
        "\n",
        "S=5\n",
        "R=5\n",
        "\n",
        "original_sliced_shards = shard_and_slice_dataset(train_dataset, S, R)\n",
        "shards_to_retrain = identify_shards_containing_data(original_sliced_shards, forget_indices)\n",
        "\n",
        "print(shards_to_retrain)\n",
        "\n",
        "new_dataset = []\n",
        "\n",
        "for shard_id, shard in enumerate(original_sliced_shards):\n",
        "    last_valid_slice_id, modified_shard = find_last_valid_slice_for_shard(S, shard_id, shard, forget_indices)\n",
        "    new_dataset.extend(modified_shard)\n",
        "    if shard_id not in shards_to_retrain:\n",
        "        continue\n",
        "\n",
        "    print(last_valid_slice_id)\n",
        "\n",
        "# Calculate the total size of the modified dataset\n",
        "total_size = sum(len(subset) for subset in new_dataset)\n",
        "\n",
        "# Print the length of the new dataset\n",
        "print(\"Total size of the modified dataset:\", total_size)"
      ],
      "metadata": {
        "execution": {
          "iopub.status.busy": "2024-07-01T11:28:14.862288Z",
          "iopub.execute_input": "2024-07-01T11:28:14.86294Z",
          "iopub.status.idle": "2024-07-01T11:28:15.147588Z",
          "shell.execute_reply.started": "2024-07-01T11:28:14.862906Z",
          "shell.execute_reply": "2024-07-01T11:28:15.146561Z"
        },
        "trusted": true,
        "id": "35igLTYFJGnD",
        "outputId": "bc5f3219-4ebb-40c1-d852-d65d8aa70e26"
      },
      "execution_count": null,
      "outputs": [
        {
          "name": "stdout",
          "text": "50000\n500\n{0, 1, 2, 3, 4}\nNone\nNone\nNone\nNone\nNone\nTotal size of the modified dataset: 49500\n",
          "output_type": "stream"
        }
      ]
    },
    {
      "cell_type": "code",
      "source": [
        "def train_initial(S, R, epochs):\n",
        "\n",
        "    # Train initial models\n",
        "    print(f\"Training initial models with S={S}, R={R}\")\n",
        "    initial_models = train_models(S, R, epochs)\n",
        "\n",
        "    shard_final_models = [initial_models[i] for i in range(R-1, len(initial_models), R)]\n",
        "\n",
        "    # Test initial models on test set\n",
        "    initial_forget_results = evaluate_on_set(shard_final_models, test_dataset, aggregation_methods)\n",
        "    print(f\"Initial Test Set Results for S={S}, R={R}: {initial_forget_results}\")\n",
        "\n",
        "    # Test initial models on forget set\n",
        "    initial_forget_results = evaluate_on_set(shard_final_models, forget_set, aggregation_methods)\n",
        "    print(f\"Initial Forget Set Results for S={S}, R={R}: {initial_forget_results}\")\n",
        "\n",
        "    return initial_models\n",
        "\n",
        "def train_unlearning(S, R, epochs, initial_models):\n",
        "\n",
        "    # Unlearn models\n",
        "    print(\"Unlearning models\")\n",
        "    unlearned_models = unlearn_models(S, R, epochs, forget_indices, initial_models)\n",
        "\n",
        "    # Test initial models on test set\n",
        "    initial_forget_results = evaluate_on_set(unlearned_models, test_dataset, aggregation_methods)\n",
        "    print(f\"Unlearned Test Set Results for S={S}, R={R}: {initial_forget_results}\")\n",
        "\n",
        "    # Test unlearned models on forget set\n",
        "    unlearned_forget_results = evaluate_on_set(unlearned_models, forget_set, aggregation_methods)\n",
        "    print(f\"Unlearned Forget Set Results for S={S}, R={R}: {unlearned_forget_results}\")\n",
        "\n",
        "    return unlearned_models"
      ],
      "metadata": {
        "id": "TSICeELJjuk7",
        "execution": {
          "iopub.status.busy": "2024-07-01T11:28:18.863261Z",
          "iopub.execute_input": "2024-07-01T11:28:18.863639Z",
          "iopub.status.idle": "2024-07-01T11:28:18.871998Z",
          "shell.execute_reply.started": "2024-07-01T11:28:18.863606Z",
          "shell.execute_reply": "2024-07-01T11:28:18.871101Z"
        },
        "trusted": true
      },
      "execution_count": null,
      "outputs": []
    },
    {
      "cell_type": "code",
      "source": [
        "from scipy.stats import entropy\n",
        "\n",
        "# Reference for completeness metric : https://ar5iv.labs.arxiv.org/html/2308.07061v3\n",
        "\n",
        "def calculate_KL(initial_models, unlearned_models, aggregation_methods, forget_set):\n",
        "\n",
        "    forget_loader = DataLoader(forget_set, batch_size=256, shuffle=False)\n",
        "\n",
        "    for method_name, method in aggregation_methods.items():\n",
        "\n",
        "        initial_preds, initial_probs = method(initial_models, forget_loader)\n",
        "        unlearned_preds, unlearned_probs = method(unlearned_models, forget_loader)\n",
        "\n",
        "        # Calculate DRA\n",
        "        dra = np.mean(initial_preds != unlearned_preds)\n",
        "\n",
        "        print(f\"{method_name} : KL divergence = {entropy(initial_probs.flatten(), unlearned_probs.flatten())}\")"
      ],
      "metadata": {
        "execution": {
          "iopub.status.busy": "2024-07-01T13:27:17.932269Z",
          "iopub.execute_input": "2024-07-01T13:27:17.932924Z",
          "iopub.status.idle": "2024-07-01T13:27:17.938999Z",
          "shell.execute_reply.started": "2024-07-01T13:27:17.932889Z",
          "shell.execute_reply": "2024-07-01T13:27:17.937879Z"
        },
        "trusted": true,
        "id": "N6zIbE-UJGnE"
      },
      "execution_count": null,
      "outputs": []
    },
    {
      "cell_type": "code",
      "source": [
        "def membership_inference_attack(losses_in, losses_out):\n",
        "    X = np.concatenate([losses_in, losses_out]).reshape(-1, 1)\n",
        "    y = np.array([1] * len(losses_in) + [0] * len(losses_out))\n",
        "    model = LogisticRegression()\n",
        "    cv_scores = cross_val_score(model, X, y, cv=2, scoring='accuracy')\n",
        "    return cv_scores.mean()"
      ],
      "metadata": {
        "execution": {
          "iopub.status.busy": "2024-07-01T13:27:19.232277Z",
          "iopub.execute_input": "2024-07-01T13:27:19.233165Z",
          "iopub.status.idle": "2024-07-01T13:27:19.23864Z",
          "shell.execute_reply.started": "2024-07-01T13:27:19.233129Z",
          "shell.execute_reply": "2024-07-01T13:27:19.2377Z"
        },
        "trusted": true,
        "id": "riQUfBCIJGnE"
      },
      "execution_count": null,
      "outputs": []
    },
    {
      "cell_type": "code",
      "source": [
        "import numpy as np\n",
        "import torch\n",
        "from torch.utils.data import DataLoader, Subset, TensorDataset\n",
        "import torch.nn as nn\n",
        "\n",
        "def evaluate_mia(models, forget_set, train_set, test_set, criterion, aggregation_methods):\n",
        "    forget_loader = DataLoader(forget_set, batch_size=64, shuffle=False)\n",
        "    test_loader = DataLoader(test_set, batch_size=64, shuffle=False)\n",
        "    train_loader = DataLoader(train_set, batch_size=64, shuffle=False)\n",
        "\n",
        "    mia_results = {}\n",
        "\n",
        "    for method_name, method in aggregation_methods.items():\n",
        "        print(f\"Evaluating MIA using {method_name}\")\n",
        "\n",
        "        losses_forget = compute_losses(models, forget_loader, criterion, method)\n",
        "\n",
        "        all_train_indices = np.arange(len(train_set))\n",
        "        all_test_indices = np.arange(len(test_set))\n",
        "\n",
        "        # Exclude forget_indices from training set\n",
        "        valid_train_indices = np.setdiff1d(all_train_indices, forget_indices)\n",
        "\n",
        "        # Select 500 random indices from valid_train_indices\n",
        "        random_train_indices = np.random.choice(valid_train_indices, 500, replace=False)\n",
        "        random_train_set = Subset(train_set, random_train_indices)\n",
        "        random_train_loader = DataLoader(random_train_set, batch_size=64, shuffle=False)\n",
        "\n",
        "        losses_train = compute_losses(models, random_train_loader, criterion, method)\n",
        "\n",
        "\n",
        "        # Select 500 random samples from the test set\n",
        "        random_test_indices1 = np.random.choice(all_test_indices, 500, replace=False)\n",
        "        random_test_set1 = Subset(test_set, random_test_indices1)\n",
        "        random_test_loader1 = DataLoader(random_test_set1, batch_size=64, shuffle=False)\n",
        "\n",
        "        losses_test1 = compute_losses(models, random_test_loader1, criterion, method)\n",
        "\n",
        "        # Exclude the previously selected random_test_indices1 from all_test_indices\n",
        "        remaining_test_indices = np.setdiff1d(all_test_indices, random_test_indices1)\n",
        "        random_test_indices2 = np.random.choice(remaining_test_indices, 500, replace=False)\n",
        "        random_test_set2 = Subset(test_set, random_test_indices2)\n",
        "        random_test_loader2 = DataLoader(random_test_set2, batch_size=64, shuffle=False)\n",
        "\n",
        "        losses_test2 = compute_losses(models, random_test_loader2, criterion, method)\n",
        "\n",
        "        mia_score1 = membership_inference_attack(losses_train, losses_test1)\n",
        "\n",
        "        mia_score2 = membership_inference_attack(losses_forget, losses_test2)\n",
        "\n",
        "        mia_results[method_name] = {\n",
        "            '1': mia_score1,\n",
        "            '2': mia_score2\n",
        "        }\n",
        "\n",
        "    return mia_results\n",
        "\n",
        "def compute_losses(models, dataloader, criterion, aggregation_method):\n",
        "    all_losses = []\n",
        "    with torch.no_grad():\n",
        "        for inputs, labels in dataloader:\n",
        "            inputs, labels = inputs.to(device), labels.to(device)\n",
        "            inputs_dataset = TensorDataset(inputs, labels)\n",
        "            inputs_loader = DataLoader(inputs_dataset, batch_size=inputs.size(0), shuffle=False)\n",
        "            _, aggregated_outputs = aggregation_method(models, inputs_loader)\n",
        "            aggregated_outputs_tensor = torch.tensor(aggregated_outputs).to(device)\n",
        "            loss = criterion(aggregated_outputs_tensor, labels)\n",
        "            all_losses.append(loss.cpu().numpy())\n",
        "    return np.array(all_losses)"
      ],
      "metadata": {
        "execution": {
          "iopub.status.busy": "2024-07-01T13:27:21.633279Z",
          "iopub.execute_input": "2024-07-01T13:27:21.634128Z",
          "iopub.status.idle": "2024-07-01T13:27:21.648609Z",
          "shell.execute_reply.started": "2024-07-01T13:27:21.634093Z",
          "shell.execute_reply": "2024-07-01T13:27:21.647654Z"
        },
        "trusted": true,
        "id": "Tr3GIMSZJGnE"
      },
      "execution_count": null,
      "outputs": []
    },
    {
      "cell_type": "code",
      "source": [
        "def give_mia(initial_models, unlearned_models, forget_set, train_dataset, test_dataset, aggregation_methods):\n",
        "    # Criterion\n",
        "    criterion = nn.CrossEntropyLoss()\n",
        "\n",
        "    # Evaluate MIA for initial models\n",
        "    initial_mia_results = evaluate_mia(initial_models, forget_set, train_dataset, test_dataset, criterion, aggregation_methods)\n",
        "    print(f\"MIA Initial Results: {initial_mia_results}\")\n",
        "\n",
        "    # Evaluate MIA for unlearned models\n",
        "    unlearned_mia_results = evaluate_mia(unlearned_models, forget_set, train_dataset, test_dataset, criterion, aggregation_methods)\n",
        "    print(f\"MIA Unlearned Results: {unlearned_mia_results}\")"
      ],
      "metadata": {
        "execution": {
          "iopub.status.busy": "2024-07-01T13:27:24.014294Z",
          "iopub.execute_input": "2024-07-01T13:27:24.015079Z",
          "iopub.status.idle": "2024-07-01T13:27:24.020486Z",
          "shell.execute_reply.started": "2024-07-01T13:27:24.015043Z",
          "shell.execute_reply": "2024-07-01T13:27:24.019603Z"
        },
        "trusted": true,
        "id": "fkuJ5Yv2JGnF"
      },
      "execution_count": null,
      "outputs": []
    },
    {
      "cell_type": "code",
      "source": [
        "initial_models = train_initial(5, 5, epochs)"
      ],
      "metadata": {
        "colab": {
          "base_uri": "https://localhost:8080/"
        },
        "id": "sHEBcT5wjuk7",
        "outputId": "5f88b817-248b-4284-ed88-cfedd29285c0",
        "execution": {
          "iopub.status.busy": "2024-07-01T11:28:25.269837Z",
          "iopub.execute_input": "2024-07-01T11:28:25.270243Z",
          "iopub.status.idle": "2024-07-01T12:20:04.044911Z",
          "shell.execute_reply.started": "2024-07-01T11:28:25.270201Z",
          "shell.execute_reply": "2024-07-01T12:20:04.043926Z"
        },
        "trusted": true
      },
      "execution_count": null,
      "outputs": [
        {
          "name": "stdout",
          "text": "Training initial models with S=5, R=5\n",
          "output_type": "stream"
        },
        {
          "name": "stderr",
          "text": "Downloading: \"https://download.pytorch.org/models/resnet18-f37072fd.pth\" to /root/.cache/torch/hub/checkpoints/resnet18-f37072fd.pth\n100%|██████████| 44.7M/44.7M [00:00<00:00, 161MB/s]\n",
          "output_type": "stream"
        },
        {
          "name": "stdout",
          "text": "Training Shard 1, Slice 1\nTraining Shard 1, Slice 2\nTraining Shard 1, Slice 3\nTraining Shard 1, Slice 4\nTraining Shard 1, Slice 5\nTraining Shard 2, Slice 1\nTraining Shard 2, Slice 2\nTraining Shard 2, Slice 3\nTraining Shard 2, Slice 4\nTraining Shard 2, Slice 5\nTraining Shard 3, Slice 1\nTraining Shard 3, Slice 2\nTraining Shard 3, Slice 3\nTraining Shard 3, Slice 4\nTraining Shard 3, Slice 5\nTraining Shard 4, Slice 1\nTraining Shard 4, Slice 2\nTraining Shard 4, Slice 3\nTraining Shard 4, Slice 4\nTraining Shard 4, Slice 5\nTraining Shard 5, Slice 1\nTraining Shard 5, Slice 2\nTraining Shard 5, Slice 3\nTraining Shard 5, Slice 4\nTraining Shard 5, Slice 5\nEvaluating using Majority Voting\nEvaluating using Adaptive Aggregation\nEvaluating using Hierarchical Aggregation\nInitial Test Set Results for S=5, R=5: {'Majority Voting': {'F1 Score': 0.9131862190103004, 'Accuracy': 0.9137, 'Precision': 0.9140190342600633, 'Recall': 0.9136999999999998, 'AUROC': 0.9947749222222223}, 'Adaptive Aggregation': {'F1 Score': 0.913167536037688, 'Accuracy': 0.9137, 'Precision': 0.914011608312369, 'Recall': 0.9137000000000001, 'AUROC': 0.9947742444444445}, 'Hierarchical Aggregation': {'F1 Score': 0.9131862190103004, 'Accuracy': 0.9137, 'Precision': 0.9140190342600633, 'Recall': 0.9136999999999998, 'AUROC': 0.9947749222222223}}\nEvaluating using Majority Voting\nEvaluating using Adaptive Aggregation\nEvaluating using Hierarchical Aggregation\nInitial Forget Set Results for S=5, R=5: {'Majority Voting': {'F1 Score': 0.9206349550750714, 'Accuracy': 0.922, 'Precision': 0.9221803790196577, 'Recall': 0.9209125122198308, 'AUROC': 0.9964582898286123}, 'Adaptive Aggregation': {'F1 Score': 0.9125397333303311, 'Accuracy': 0.914, 'Precision': 0.911633304735205, 'Recall': 0.9147747792287051, 'AUROC': 0.9963284586595968}, 'Hierarchical Aggregation': {'F1 Score': 0.9170377357671928, 'Accuracy': 0.918, 'Precision': 0.9169388413580932, 'Recall': 0.9189304571110704, 'AUROC': 0.9966339978654825}}\n",
          "output_type": "stream"
        }
      ]
    },
    {
      "cell_type": "code",
      "source": [
        "unlearned_models = train_unlearning(5, 5, epochs, initial_models)"
      ],
      "metadata": {
        "colab": {
          "base_uri": "https://localhost:8080/"
        },
        "id": "sidb48016iGC",
        "outputId": "05777acd-8b0c-4be8-c19d-d45df6371166",
        "execution": {
          "iopub.status.busy": "2024-07-01T12:20:24.311981Z",
          "iopub.execute_input": "2024-07-01T12:20:24.312365Z",
          "iopub.status.idle": "2024-07-01T13:11:09.395652Z",
          "shell.execute_reply.started": "2024-07-01T12:20:24.312333Z",
          "shell.execute_reply": "2024-07-01T13:11:09.394698Z"
        },
        "trusted": true
      },
      "execution_count": null,
      "outputs": [
        {
          "name": "stdout",
          "text": "Unlearning models\nRetraining Shard 1, Slice 1\nRetraining Shard 1, Slice 2\nRetraining Shard 1, Slice 3\nRetraining Shard 1, Slice 4\nRetraining Shard 1, Slice 5\nRetraining Shard 2, Slice 1\nRetraining Shard 2, Slice 2\nRetraining Shard 2, Slice 3\nRetraining Shard 2, Slice 4\nRetraining Shard 2, Slice 5\nRetraining Shard 3, Slice 1\nRetraining Shard 3, Slice 2\nRetraining Shard 3, Slice 3\nRetraining Shard 3, Slice 4\nRetraining Shard 3, Slice 5\nRetraining Shard 4, Slice 1\nRetraining Shard 4, Slice 2\nRetraining Shard 4, Slice 3\nRetraining Shard 4, Slice 4\nRetraining Shard 4, Slice 5\nRetraining Shard 5, Slice 1\nRetraining Shard 5, Slice 2\nRetraining Shard 5, Slice 3\nRetraining Shard 5, Slice 4\nRetraining Shard 5, Slice 5\nEvaluating using Majority Voting\nEvaluating using Adaptive Aggregation\nEvaluating using Hierarchical Aggregation\nUnlearned Test Set Results for S=5, R=5: {'Majority Voting': {'F1 Score': 0.9171251328098482, 'Accuracy': 0.9171, 'Precision': 0.9186588508665707, 'Recall': 0.9170999999999999, 'AUROC': 0.9953375888888887}, 'Adaptive Aggregation': {'F1 Score': 0.9171319327712653, 'Accuracy': 0.9171, 'Precision': 0.9186762391296964, 'Recall': 0.9170999999999999, 'AUROC': 0.9953375555555555}, 'Hierarchical Aggregation': {'F1 Score': 0.9171251328098482, 'Accuracy': 0.9171, 'Precision': 0.9186588508665707, 'Recall': 0.9170999999999999, 'AUROC': 0.9953375888888887}}\nEvaluating using Majority Voting\nEvaluating using Adaptive Aggregation\nEvaluating using Hierarchical Aggregation\nUnlearned Forget Set Results for S=5, R=5: {'Majority Voting': {'F1 Score': 0.9063446811891499, 'Accuracy': 0.904, 'Precision': 0.908162471371474, 'Recall': 0.9058848053852945, 'AUROC': 0.9931098922507804}, 'Adaptive Aggregation': {'F1 Score': 0.914192780670725, 'Accuracy': 0.914, 'Precision': 0.916419719300371, 'Recall': 0.9134072346468542, 'AUROC': 0.9934303613700364}, 'Hierarchical Aggregation': {'F1 Score': 0.9022460670927032, 'Accuracy': 0.902, 'Precision': 0.9048298247779292, 'Recall': 0.9009636160711603, 'AUROC': 0.9934654180634759}}\n",
          "output_type": "stream"
        }
      ]
    },
    {
      "cell_type": "markdown",
      "source": [
        "likewise we can get the results for other S and Rs. The accuracies become less as I once checked with 20,20."
      ],
      "metadata": {
        "id": "3Rrw1Pq2JGnF"
      }
    },
    {
      "cell_type": "code",
      "source": [
        "calculate_KL(initial_models, unlearned_models, aggregation_methods, forget_set)"
      ],
      "metadata": {
        "execution": {
          "iopub.status.busy": "2024-07-01T13:27:29.621473Z",
          "iopub.execute_input": "2024-07-01T13:27:29.622287Z",
          "iopub.status.idle": "2024-07-01T13:29:26.566623Z",
          "shell.execute_reply.started": "2024-07-01T13:27:29.622255Z",
          "shell.execute_reply": "2024-07-01T13:29:26.565653Z"
        },
        "trusted": true,
        "id": "NjoiZioKJGnF",
        "outputId": "42cab658-5925-4062-8be6-d199c3577838"
      },
      "execution_count": null,
      "outputs": [
        {
          "name": "stdout",
          "text": "Majority Voting : KL divergence = 0.18245550990104675\nAdaptive Aggregation : KL divergence = 0.18054687976837158\nHierarchical Aggregation : KL divergence = 0.18590132892131805\n",
          "output_type": "stream"
        }
      ]
    },
    {
      "cell_type": "code",
      "source": [
        "give_mia(initial_models, unlearned_models, forget_set, train_dataset, test_dataset, aggregation_methods)"
      ],
      "metadata": {
        "execution": {
          "iopub.status.busy": "2024-07-01T13:31:00.004927Z",
          "iopub.execute_input": "2024-07-01T13:31:00.005322Z",
          "iopub.status.idle": "2024-07-01T13:44:05.183992Z",
          "shell.execute_reply.started": "2024-07-01T13:31:00.00529Z",
          "shell.execute_reply": "2024-07-01T13:44:05.183014Z"
        },
        "trusted": true,
        "id": "GQHvdxCjJGnG",
        "outputId": "3020ecd0-9691-4c11-ee6b-2ad98fbfa96b"
      },
      "execution_count": null,
      "outputs": [
        {
          "name": "stdout",
          "text": "Evaluating MIA using Majority Voting\nEvaluating MIA using Adaptive Aggregation\nEvaluating MIA using Hierarchical Aggregation\nMIA Initial Results: {'Majority Voting': {'1': 0.6875, '2': 0.4375}, 'Adaptive Aggregation': {'1': 0.3125, '2': 0.625}, 'Hierarchical Aggregation': {'1': 0.3125, '2': 0.4375}}\nEvaluating MIA using Majority Voting\nEvaluating MIA using Adaptive Aggregation\nEvaluating MIA using Hierarchical Aggregation\nMIA Unlearned Results: {'Majority Voting': {'1': 0.625, '2': 0.5625}, 'Adaptive Aggregation': {'1': 0.75, '2': 0.375}, 'Hierarchical Aggregation': {'1': 0.375, '2': 0.4375}}\n",
          "output_type": "stream"
        }
      ]
    },
    {
      "cell_type": "markdown",
      "source": [
        "For a perfectly unlearned model, I would expect the cross-validation score of the Logistic Regression-based Membership Inference Attack to be close to random guessing, i.e., around 0.5. This would indicate that the model no longer retains information that distinguishes the 'forget set' from the test set.\n",
        "\n",
        "The SISA (Sharded, Isolated, Sliced, and Aggregated) algorithm aims to facilitate efficient and effective machine unlearning by breaking the data into smaller, independent subsets. In practice, if the SISA algorithm performed well, the cross-validation score for the unlearned model should approach the expected score of a perfectly unlearned model. This would demonstrate that the model effectively \"forgot\" the 'forget set' data, reducing its vulnerability to membership inference attacks.\n",
        "\n",
        "Thus for initial model MIA scores 1 & 2 I expect value in order of 0.6 and higher and also for the unlearned model MIA score 1 but for the 2nd score I expect value around 0.5. As likewise is achived the results match."
      ],
      "metadata": {
        "id": "2SPijlr_JGnG"
      }
    },
    {
      "cell_type": "code",
      "source": [
        "# initial_models = train_initial(20, 20, epochs)"
      ],
      "metadata": {
        "id": "65JlsHkXjuk7",
        "execution": {
          "iopub.status.busy": "2024-06-29T14:41:54.841346Z",
          "iopub.execute_input": "2024-06-29T14:41:54.842255Z",
          "iopub.status.idle": "2024-06-29T14:41:54.846182Z",
          "shell.execute_reply.started": "2024-06-29T14:41:54.842222Z",
          "shell.execute_reply": "2024-06-29T14:41:54.845235Z"
        },
        "trusted": true
      },
      "execution_count": null,
      "outputs": []
    },
    {
      "cell_type": "code",
      "source": [
        "# Define the dataset and data loaders\n",
        "transform_train = transforms.Compose([\n",
        "    transforms.RandomResizedCrop(224, scale=(0.8, 1.0)),  # Resize to 224x224 with random crop\n",
        "    transforms.RandomHorizontalFlip(),\n",
        "    transforms.ToTensor(),\n",
        "    transforms.Normalize((0.4914, 0.4822, 0.4465), (0.2023, 0.1994, 0.2010)),\n",
        "])\n",
        "\n",
        "transform_test = transforms.Compose([\n",
        "    transforms.Resize(256),  # Resize the shorter side to 256 pixels\n",
        "    transforms.CenterCrop(224),  # Crop the center 224x224\n",
        "    transforms.ToTensor(),\n",
        "    transforms.Normalize((0.4914, 0.4822, 0.4465), (0.2023, 0.1994, 0.2010)),\n",
        "])\n",
        "\n",
        "train_dataset = torchvision.datasets.CIFAR10(root='./data', train=True, download=True, transform=transform_train)\n",
        "test_dataset = torchvision.datasets.CIFAR10(root='./data', train=False, download=True, transform=transform_test)"
      ],
      "metadata": {
        "execution": {
          "iopub.status.busy": "2024-07-01T16:20:42.343543Z",
          "iopub.execute_input": "2024-07-01T16:20:42.344513Z",
          "iopub.status.idle": "2024-07-01T16:20:43.837873Z",
          "shell.execute_reply.started": "2024-07-01T16:20:42.344478Z",
          "shell.execute_reply": "2024-07-01T16:20:43.837025Z"
        },
        "trusted": true,
        "id": "fp8Ms734JGnH",
        "outputId": "e69ae78d-e933-44d6-cb6a-7a028b83201d"
      },
      "execution_count": null,
      "outputs": [
        {
          "name": "stdout",
          "text": "Files already downloaded and verified\nFiles already downloaded and verified\n",
          "output_type": "stream"
        }
      ]
    },
    {
      "cell_type": "code",
      "source": [
        "import random\n",
        "import numpy as np\n",
        "from PIL import Image\n",
        "import torch\n",
        "from torch.utils.data import Dataset\n",
        "from torchvision.transforms import ToTensor, ToPILImage\n",
        "\n",
        "class PoisonedDataset(Dataset):\n",
        "    def __init__(self, original_dataset, target_label, num_samples=500):\n",
        "        self.num_samples = num_samples\n",
        "        self.original_dataset = original_dataset\n",
        "        self.target_label = target_label\n",
        "        self.poisoned_indices, self.poisoned_images = self._poison_dataset()\n",
        "\n",
        "    def _poison_dataset(self):\n",
        "        target_indices = [i for i, (_, label) in enumerate(self.original_dataset) if label == self.target_label]\n",
        "        poisoned_indices = random.sample(target_indices, self.num_samples)\n",
        "        poisoned_images = {}\n",
        "\n",
        "        for idx in poisoned_indices:\n",
        "            img, label = self.original_dataset[idx]\n",
        "            img_array = img.numpy().transpose(1, 2, 0)  # Convert from tensor to numpy array (H, W, C)\n",
        "\n",
        "            # Ensure the block position is within the bounds of the image\n",
        "            x, y = random.randint(0, img_array.shape[0] - 3), random.randint(0, img_array.shape[1] - 3)\n",
        "            img_array[x:x+3, y:y+3, :] = 0\n",
        "\n",
        "            poisoned_img = torch.tensor(img_array.transpose(2, 0, 1))  # Convert back to tensor (C, H, W)\n",
        "            poisoned_images[idx] = (poisoned_img, label)\n",
        "\n",
        "        return poisoned_indices, poisoned_images\n",
        "\n",
        "    def __len__(self):\n",
        "        return len(self.original_dataset)\n",
        "\n",
        "    def __getitem__(self, idx):\n",
        "        return self.poisoned_images[idx] if idx in self.poisoned_indices else self.original_dataset[idx]"
      ],
      "metadata": {
        "execution": {
          "iopub.status.busy": "2024-07-01T16:18:24.361933Z",
          "iopub.execute_input": "2024-07-01T16:18:24.362332Z",
          "iopub.status.idle": "2024-07-01T16:18:24.374187Z",
          "shell.execute_reply.started": "2024-07-01T16:18:24.362301Z",
          "shell.execute_reply": "2024-07-01T16:18:24.373302Z"
        },
        "trusted": true,
        "id": "8z528WG3JGnH"
      },
      "execution_count": null,
      "outputs": []
    },
    {
      "cell_type": "code",
      "source": [
        "transform_train = transforms.Compose([\n",
        "    transforms.ToTensor(),\n",
        "])\n",
        "\n",
        "dataset = torchvision.datasets.CIFAR10(root='./data', train=True, download=True, transform=transform_train)\n",
        "\n",
        "target_label = 2\n",
        "\n",
        "poisoned_dataset = PoisonedDataset(dataset, target_label, num_samples=500)\n",
        "dataloader = DataLoader(poisoned_dataset, batch_size=16, shuffle=True)\n",
        "\n",
        "# Function to visualize images\n",
        "def visualize_images(images, labels, title):\n",
        "    fig, axes = plt.subplots(1, len(images), figsize=(12, 2))\n",
        "    for img, label, ax in zip(images, labels, axes):\n",
        "        ax.imshow(np.transpose(img.numpy(), (1, 2, 0)))\n",
        "        ax.set_title(f'Label: {label}')\n",
        "        ax.axis('off')\n",
        "    plt.suptitle(title)\n",
        "    plt.show()\n",
        "\n",
        "# Display some original and poisoned images\n",
        "original_images, original_labels = zip(*[dataset[i] for i in range(8)])\n",
        "poisoned_images, poisoned_labels = zip(*[poisoned_dataset[i] for i in poisoned_dataset.poisoned_indices[:8]])\n",
        "\n",
        "visualize_images(original_images, original_labels, 'Original Images')\n",
        "visualize_images(poisoned_images, poisoned_labels, 'Poisoned Images')\n",
        "\n",
        "# Verify the dataset length\n",
        "print(f\"Original dataset size: {len(dataset)}\")\n",
        "print(f\"Poisoned dataset size: {len(poisoned_dataset)}\")\n",
        "\n",
        "# Verify the number of poisoned samples\n",
        "poisoned_sample_count = len(poisoned_dataset.poisoned_indices)\n",
        "print(f\"Number of poisoned samples: {poisoned_sample_count}\")"
      ],
      "metadata": {
        "execution": {
          "iopub.status.busy": "2024-07-01T19:59:23.750656Z",
          "iopub.execute_input": "2024-07-01T19:59:23.751647Z",
          "iopub.status.idle": "2024-07-01T19:59:31.946899Z",
          "shell.execute_reply.started": "2024-07-01T19:59:23.751605Z",
          "shell.execute_reply": "2024-07-01T19:59:31.945878Z"
        },
        "trusted": true,
        "id": "xhiNAC_eJGnI",
        "outputId": "e2e77ea0-c047-4aa4-aebf-459455f0de5f"
      },
      "execution_count": null,
      "outputs": [
        {
          "name": "stdout",
          "text": "Files already downloaded and verified\n",
          "output_type": "stream"
        },
        {
          "output_type": "display_data",
          "data": {
            "text/plain": "<Figure size 1200x200 with 8 Axes>",
            "image/png": "[encoded data removed]"
          },
          "metadata": {}
        },
        {
          "output_type": "display_data",
          "data": {
            "text/plain": "<Figure size 1200x200 with 8 Axes>",
            "image/png": "[encoded data removed]"
          },
          "metadata": {}
        },
        {
          "name": "stdout",
          "text": "Original dataset size: 50000\nPoisoned dataset size: 50000\nNumber of poisoned samples: 500\n",
          "output_type": "stream"
        }
      ]
    },
    {
      "cell_type": "code",
      "source": [
        "# Define the number of data points to forget\n",
        "num_forget = 500\n",
        "\n",
        "# Parameters\n",
        "epochs = 10\n",
        "\n",
        "# Step 1: Add Backdoor Trigger to the Training Data\n",
        "target_label = 2  # Choose the target label for the backdoor attack\n",
        "train_dataset = PoisonedDataset(train_dataset, target_label)\n",
        "\n",
        "# Select the data points to forget\n",
        "forget_indices = train_dataset.poisoned_indices\n",
        "forget_set = [train_dataset[i] for i in forget_indices]"
      ],
      "metadata": {
        "id": "uPk1TUysy7me",
        "execution": {
          "iopub.status.busy": "2024-07-01T16:20:57.945478Z",
          "iopub.execute_input": "2024-07-01T16:20:57.945823Z",
          "iopub.status.idle": "2024-07-01T16:22:05.558033Z",
          "shell.execute_reply.started": "2024-07-01T16:20:57.945796Z",
          "shell.execute_reply": "2024-07-01T16:22:05.557125Z"
        },
        "trusted": true
      },
      "execution_count": null,
      "outputs": []
    },
    {
      "cell_type": "code",
      "source": [
        "def train_initial(S, R, epochs):\n",
        "\n",
        "    # Train initial models\n",
        "    print(f\"Training initial models with S={S}, R={R}\")\n",
        "    initial_models = train_models(S, R, epochs)\n",
        "\n",
        "    shard_final_models = [initial_models[i] for i in range(R-1, len(initial_models), R)]\n",
        "\n",
        "    # Test initial models on test set\n",
        "    initial_forget_results = evaluate_on_set(shard_final_models, test_dataset, aggregation_methods)\n",
        "    print(f\"Initial Test Set Results for S={S}, R={R}: {initial_forget_results}\")\n",
        "\n",
        "    return initial_models\n",
        "\n",
        "def train_unlearning(S, R, epochs, initial_models):\n",
        "\n",
        "    # Unlearn models\n",
        "    print(\"Unlearning models\")\n",
        "    unlearned_models = unlearn_models(S, R, epochs, forget_indices, initial_models)\n",
        "\n",
        "    # Test initial models on test set\n",
        "    initial_forget_results = evaluate_on_set(unlearned_models, test_dataset, aggregation_methods)\n",
        "    print(f\"Unlearned Test Set Results for S={S}, R={R}: {initial_forget_results}\")\n",
        "\n",
        "    return unlearned_models"
      ],
      "metadata": {
        "execution": {
          "iopub.status.busy": "2024-07-01T16:22:08.064594Z",
          "iopub.execute_input": "2024-07-01T16:22:08.065381Z",
          "iopub.status.idle": "2024-07-01T16:22:08.072497Z",
          "shell.execute_reply.started": "2024-07-01T16:22:08.065351Z",
          "shell.execute_reply": "2024-07-01T16:22:08.071475Z"
        },
        "trusted": true,
        "id": "oDE4NxRJJGnI"
      },
      "execution_count": null,
      "outputs": []
    },
    {
      "cell_type": "code",
      "source": [
        "initial_poisoned_models = train_initial(5, 5, epochs)"
      ],
      "metadata": {
        "execution": {
          "iopub.status.busy": "2024-07-01T16:22:10.782173Z",
          "iopub.execute_input": "2024-07-01T16:22:10.782542Z",
          "iopub.status.idle": "2024-07-01T17:08:04.691071Z",
          "shell.execute_reply.started": "2024-07-01T16:22:10.782512Z",
          "shell.execute_reply": "2024-07-01T17:08:04.690044Z"
        },
        "trusted": true,
        "id": "NfPwVtavJGnJ",
        "outputId": "2fee86c6-a897-46e4-fc6a-93f8f3e33198"
      },
      "execution_count": null,
      "outputs": [
        {
          "name": "stdout",
          "text": "Training initial models with S=5, R=5\nTraining Shard 1, Slice 1\nTraining Shard 1, Slice 2\nTraining Shard 1, Slice 3\nTraining Shard 1, Slice 4\nTraining Shard 1, Slice 5\nTraining Shard 2, Slice 1\nTraining Shard 2, Slice 2\nTraining Shard 2, Slice 3\nTraining Shard 2, Slice 4\nTraining Shard 2, Slice 5\nTraining Shard 3, Slice 1\nTraining Shard 3, Slice 2\nTraining Shard 3, Slice 3\nTraining Shard 3, Slice 4\nTraining Shard 3, Slice 5\nTraining Shard 4, Slice 1\nTraining Shard 4, Slice 2\nTraining Shard 4, Slice 3\nTraining Shard 4, Slice 4\nTraining Shard 4, Slice 5\nTraining Shard 5, Slice 1\nTraining Shard 5, Slice 2\nTraining Shard 5, Slice 3\nTraining Shard 5, Slice 4\nTraining Shard 5, Slice 5\nEvaluating using Majority Voting\nEvaluating using Adaptive Aggregation\nEvaluating using Hierarchical Aggregation\nInitial Test Set Results for S=5, R=5: {'Majority Voting': {'F1 Score': 0.9116283451372741, 'Accuracy': 0.9114, 'Precision': 0.9135742924593035, 'Recall': 0.9113999999999999, 'AUROC': 0.9950298222222222}, 'Adaptive Aggregation': {'F1 Score': 0.9118219021342586, 'Accuracy': 0.9116, 'Precision': 0.913747106415477, 'Recall': 0.9116000000000002, 'AUROC': 0.9950301111111111}, 'Hierarchical Aggregation': {'F1 Score': 0.9116283451372741, 'Accuracy': 0.9114, 'Precision': 0.9135742924593035, 'Recall': 0.9113999999999999, 'AUROC': 0.9950298222222222}}\n",
          "output_type": "stream"
        }
      ]
    },
    {
      "cell_type": "markdown",
      "source": [
        "Attack Success Rate (ASR), is defined as the percentage of poisoned samples that are classified as the poisoned label defined by the attacker, to reflect the attacking capacity."
      ],
      "metadata": {
        "id": "yFQKTHRFJGnK"
      }
    },
    {
      "cell_type": "code",
      "source": [
        "def calculate_asr(models, aggregation_methods, dataloader, target_label):\n",
        "    asr_results = {}\n",
        "\n",
        "    for method_name, method in aggregation_methods.items():\n",
        "        print(f\"Calculating ASR using {method_name}\")\n",
        "        preds, probs = method(models, dataloader)\n",
        "        true_labels = np.concatenate([labels.numpy() for _, labels in dataloader])\n",
        "\n",
        "        # Calculate ASR: proportion of samples with the target_label in true labels\n",
        "        # misclassified as target_label in predictions\n",
        "        misclassified_as_target = (preds == target_label)\n",
        "        asr = np.sum(misclassified_as_target) / len(true_labels)\n",
        "\n",
        "        asr_results[method_name] = asr\n",
        "\n",
        "    return asr_results"
      ],
      "metadata": {
        "id": "5U1x5sxt5IvZ",
        "execution": {
          "iopub.status.busy": "2024-07-01T20:50:36.882931Z",
          "iopub.execute_input": "2024-07-01T20:50:36.883754Z",
          "iopub.status.idle": "2024-07-01T20:50:36.890189Z",
          "shell.execute_reply.started": "2024-07-01T20:50:36.883721Z",
          "shell.execute_reply": "2024-07-01T20:50:36.889071Z"
        },
        "trusted": true
      },
      "execution_count": null,
      "outputs": []
    },
    {
      "cell_type": "code",
      "source": [
        "poisoned_test_dataset = PoisonedDataset(test_dataset, target_label)\n",
        "indices = poisoned_test_dataset.poisoned_indices\n",
        "pset = [poisoned_test_dataset[i] for i in indices]\n",
        "\n",
        "poisoned_loader = DataLoader(pset, batch_size=64, shuffle=False)\n",
        "\n",
        "asr_results = calculate_asr(initial_poisoned_models, aggregation_methods, poisoned_loader, target_label)\n",
        "\n",
        "# Output the ASR results\n",
        "for method_name, asr in asr_results.items():\n",
        "    print(f\"ASR using {method_name}: {asr * 100:.2f}%\")"
      ],
      "metadata": {
        "id": "HClovSnu0U6-",
        "execution": {
          "iopub.status.busy": "2024-07-01T20:53:53.432437Z",
          "iopub.execute_input": "2024-07-01T20:53:53.432807Z",
          "iopub.status.idle": "2024-07-01T20:54:47.223223Z",
          "shell.execute_reply.started": "2024-07-01T20:53:53.432779Z",
          "shell.execute_reply": "2024-07-01T20:54:47.222163Z"
        },
        "trusted": true,
        "outputId": "418080a3-85c4-4610-e4ea-f777821244dc"
      },
      "execution_count": null,
      "outputs": [
        {
          "name": "stdout",
          "text": "Calculating ASR using Majority Voting\nCalculating ASR using Adaptive Aggregation\nCalculating ASR using Hierarchical Aggregation\nASR using Majority Voting: 84.40%\nASR using Adaptive Aggregation: 84.60%\nASR using Hierarchical Aggregation: 84.40%\n",
          "output_type": "stream"
        }
      ]
    },
    {
      "cell_type": "code",
      "source": [
        "unlearned_poisoned_models = train_unlearning(5, 5, epochs, initial_poisoned_models)"
      ],
      "metadata": {
        "id": "1F4myTgn6p1g",
        "execution": {
          "iopub.status.busy": "2024-07-01T18:01:34.728459Z",
          "iopub.execute_input": "2024-07-01T18:01:34.728897Z",
          "iopub.status.idle": "2024-07-01T18:48:04.002569Z",
          "shell.execute_reply.started": "2024-07-01T18:01:34.728864Z",
          "shell.execute_reply": "2024-07-01T18:48:04.001473Z"
        },
        "trusted": true,
        "outputId": "ace0d783-f094-442d-ea7e-d23e8914f089"
      },
      "execution_count": null,
      "outputs": [
        {
          "name": "stdout",
          "text": "Unlearning models\nRetraining Shard 1, Slice 1\nRetraining Shard 1, Slice 2\nRetraining Shard 1, Slice 3\nRetraining Shard 1, Slice 4\nRetraining Shard 1, Slice 5\nRetraining Shard 2, Slice 1\nRetraining Shard 2, Slice 2\nRetraining Shard 2, Slice 3\nRetraining Shard 2, Slice 4\nRetraining Shard 2, Slice 5\nRetraining Shard 3, Slice 1\nRetraining Shard 3, Slice 2\nRetraining Shard 3, Slice 3\nRetraining Shard 3, Slice 4\nRetraining Shard 3, Slice 5\nRetraining Shard 4, Slice 1\nRetraining Shard 4, Slice 2\nRetraining Shard 4, Slice 3\nRetraining Shard 4, Slice 4\nRetraining Shard 4, Slice 5\nRetraining Shard 5, Slice 1\nRetraining Shard 5, Slice 2\nRetraining Shard 5, Slice 3\nRetraining Shard 5, Slice 4\nRetraining Shard 5, Slice 5\nEvaluating using Majority Voting\nEvaluating using Adaptive Aggregation\nEvaluating using Hierarchical Aggregation\nUnlearned Test Set Results for S=5, R=5: {'Majority Voting': {'F1 Score': 0.9179653391598755, 'Accuracy': 0.9174, 'Precision': 0.919710965691108, 'Recall': 0.9174, 'AUROC': 0.9951174555555558}, 'Adaptive Aggregation': {'F1 Score': 0.9178609963842618, 'Accuracy': 0.9173, 'Precision': 0.9195769158826208, 'Recall': 0.9173, 'AUROC': 0.9951162666666665}, 'Hierarchical Aggregation': {'F1 Score': 0.9179653391598755, 'Accuracy': 0.9174, 'Precision': 0.919710965691108, 'Recall': 0.9174, 'AUROC': 0.9951174555555558}}\n",
          "output_type": "stream"
        }
      ]
    },
    {
      "cell_type": "code",
      "source": [
        "asr_results = calculate_asr(unlearned_poisoned_models, aggregation_methods, poisoned_loader, 0)\n",
        "\n",
        "# Output the ASR results\n",
        "for method_name, asr in asr_results.items():\n",
        "    print(f\"ASR using {method_name}: {asr * 100:.2f}%\")"
      ],
      "metadata": {
        "execution": {
          "iopub.status.busy": "2024-07-01T20:54:57.312675Z",
          "iopub.execute_input": "2024-07-01T20:54:57.313083Z",
          "iopub.status.idle": "2024-07-01T20:55:05.592779Z",
          "shell.execute_reply.started": "2024-07-01T20:54:57.313049Z",
          "shell.execute_reply": "2024-07-01T20:55:05.591836Z"
        },
        "trusted": true,
        "id": "WiOTOOE8JGnM",
        "outputId": "9ce32473-ecce-49b1-c3eb-3b4914d7e215"
      },
      "execution_count": null,
      "outputs": [
        {
          "name": "stdout",
          "text": "Calculating ASR using Majority Voting\nCalculating ASR using Adaptive Aggregation\nCalculating ASR using Hierarchical Aggregation\nASR using Majority Voting: 5.00%\nASR using Adaptive Aggregation: 5.20%\nASR using Hierarchical Aggregation: 5.00%\n",
          "output_type": "stream"
        }
      ]
    },
    {
      "cell_type": "code",
      "source": [
        "# # Function to save models\n",
        "# def save_models(models, path_prefix):\n",
        "#     for i, model_dict in enumerate(models):\n",
        "#         model_path = f\"{path_prefix}_model_{i}.pth\"\n",
        "#         torch.save(model_dict, model_path)\n",
        "# #         print(f\"Saved model {i} to {model_path}\")\n",
        "\n",
        "# # Function to load models\n",
        "# def load_models(num_models, path_prefix, model_class, device):\n",
        "#     models = []\n",
        "#     for i in range(num_models):\n",
        "#         model_path = f\"{path_prefix}_model_{i}.pth\"\n",
        "#         model = model_class().to(device)\n",
        "#         model.load_state_dict(torch.load(model_path))\n",
        "#         models.append(model.state_dict())\n",
        "# #         print(f\"Loaded model {i} from {model_path}\")\n",
        "#     return models\n",
        "\n",
        "# # Function to download models\n",
        "# def download_models(num_models, path_prefix):\n",
        "#     for i in range(num_models):\n",
        "#         model_path = f\"{path_prefix}_model_{i}.pth\"\n",
        "#         files.download(model_path)\n",
        "\n",
        "# # Example usage for saving models\n",
        "# save_models(initial_models, \"initial\")\n",
        "# save_models(unlearned_models, \"unlearned\")\n",
        "\n",
        "# # Example usage for loading models\n",
        "# num_initial_models = len(initial_models)\n",
        "# num_unlearned_models = len(unlearned_models)\n",
        "\n",
        "# initial_models_loaded = load_models(num_initial_models, \"initial\", ModifiedResNet18, device)\n",
        "# unlearned_models_loaded = load_models(num_unlearned_models, \"unlearned\", ModifiedResNet18, device)\n",
        "\n",
        "# # download_models(num_initial_models, \"initial\")\n",
        "# # download_models(num_unlearned_models, \"unlearned\")"
      ],
      "metadata": {
        "id": "Sr2iBx_2uxAG",
        "execution": {
          "iopub.status.busy": "2024-07-01T19:55:27.549032Z",
          "iopub.execute_input": "2024-07-01T19:55:27.54986Z",
          "iopub.status.idle": "2024-07-01T19:55:27.554961Z",
          "shell.execute_reply.started": "2024-07-01T19:55:27.549827Z",
          "shell.execute_reply": "2024-07-01T19:55:27.553888Z"
        },
        "trusted": true
      },
      "execution_count": null,
      "outputs": []
    }
  ]
}